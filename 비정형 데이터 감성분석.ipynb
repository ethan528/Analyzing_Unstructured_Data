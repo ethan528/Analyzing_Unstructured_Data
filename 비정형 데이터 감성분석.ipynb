{
 "cells": [
  {
   "cell_type": "code",
   "execution_count": 1,
   "metadata": {
    "executionInfo": {
     "elapsed": 4754,
     "status": "ok",
     "timestamp": 1649922212998,
     "user": {
      "displayName": "ethan morian",
      "userId": "06379902278847879770"
     },
     "user_tz": -540
    },
    "id": "_joAbycg-4a6"
   },
   "outputs": [],
   "source": [
    "import pandas as pd\n",
    "from sklearn.model_selection import train_test_split\n",
    "import matplotlib.pyplot as plt\n",
    "from konlpy.tag import Okt; t = Okt()\n",
    "import numpy as np\n",
    "from collections import Counter\n",
    "from wordcloud import WordCloud\n",
    "from tensorflow.keras.preprocessing.text import Tokenizer; tokenizer = Tokenizer()\n",
    "from tensorflow.keras.preprocessing.sequence import pad_sequences\n",
    "from tensorflow.keras.layers import Embedding, Dense, GRU\n",
    "from tensorflow.keras.models import Sequential\n",
    "from tensorflow.keras.models import load_model\n",
    "from tensorflow.keras.callbacks import EarlyStopping, ModelCheckpoint\n",
    "\n",
    "import warnings\n",
    "warnings.filterwarnings(action = 'ignore')"
   ]
  },
  {
   "cell_type": "code",
   "execution_count": 2,
   "metadata": {
    "colab": {
     "base_uri": "https://localhost:8080/",
     "height": 555
    },
    "executionInfo": {
     "elapsed": 564,
     "status": "ok",
     "timestamp": 1649922255365,
     "user": {
      "displayName": "ethan morian",
      "userId": "06379902278847879770"
     },
     "user_tz": -540
    },
    "id": "z-La6yEN-4bF",
    "outputId": "79d32179-6948-4c74-9e2d-e027cb46985f"
   },
   "outputs": [
    {
     "data": {
      "text/html": [
       "<div>\n",
       "<style scoped>\n",
       "    .dataframe tbody tr th:only-of-type {\n",
       "        vertical-align: middle;\n",
       "    }\n",
       "\n",
       "    .dataframe tbody tr th {\n",
       "        vertical-align: top;\n",
       "    }\n",
       "\n",
       "    .dataframe thead th {\n",
       "        text-align: right;\n",
       "    }\n",
       "</style>\n",
       "<table border=\"1\" class=\"dataframe\">\n",
       "  <thead>\n",
       "    <tr style=\"text-align: right;\">\n",
       "      <th></th>\n",
       "      <th>name</th>\n",
       "      <th>score</th>\n",
       "      <th>review</th>\n",
       "    </tr>\n",
       "  </thead>\n",
       "  <tbody>\n",
       "    <tr>\n",
       "      <th>0</th>\n",
       "      <td>카페디퍼</td>\n",
       "      <td>80</td>\n",
       "      <td>주차도 할겸 따뜻한라떼 한잔 마시는데 중년의 사장님이 샷이 잘못되었다며 다시 가져다...</td>\n",
       "    </tr>\n",
       "    <tr>\n",
       "      <th>1</th>\n",
       "      <td>롯데시네마 도곡</td>\n",
       "      <td>100</td>\n",
       "      <td>역시 새 영화관이라 그런지 시설이 좋습니다\\n공기도 쾌적하고 주말에 차가 많은 거 ...</td>\n",
       "    </tr>\n",
       "    <tr>\n",
       "      <th>2</th>\n",
       "      <td>롯데시네마 도곡</td>\n",
       "      <td>100</td>\n",
       "      <td>깔끔하네요</td>\n",
       "    </tr>\n",
       "    <tr>\n",
       "      <th>3</th>\n",
       "      <td>롯데시네마 도곡</td>\n",
       "      <td>100</td>\n",
       "      <td>인간적으로 롯데시네마 \"매봉\"이라고 하자....\\n도곡역 갔다 옴</td>\n",
       "    </tr>\n",
       "    <tr>\n",
       "      <th>4</th>\n",
       "      <td>이소젠네타</td>\n",
       "      <td>100</td>\n",
       "      <td>갠적으로 오복수산보다 훨씬 맛있었음 ..\\n진짜 강추</td>\n",
       "    </tr>\n",
       "  </tbody>\n",
       "</table>\n",
       "</div>"
      ],
      "text/plain": [
       "       name  score                                             review\n",
       "0      카페디퍼     80  주차도 할겸 따뜻한라떼 한잔 마시는데 중년의 사장님이 샷이 잘못되었다며 다시 가져다...\n",
       "1  롯데시네마 도곡    100  역시 새 영화관이라 그런지 시설이 좋습니다\\n공기도 쾌적하고 주말에 차가 많은 거 ...\n",
       "2  롯데시네마 도곡    100                                              깔끔하네요\n",
       "3  롯데시네마 도곡    100               인간적으로 롯데시네마 \"매봉\"이라고 하자....\\n도곡역 갔다 옴\n",
       "4     이소젠네타    100                      갠적으로 오복수산보다 훨씬 맛있었음 ..\\n진짜 강추"
      ]
     },
     "execution_count": 2,
     "metadata": {},
     "output_type": "execute_result"
    }
   ],
   "source": [
    "# 데이터 불러오기\n",
    "review_data = pd.read_csv('review_data.csv')\n",
    "review_data.head()"
   ]
  },
  {
   "cell_type": "code",
   "execution_count": 3,
   "metadata": {
    "colab": {
     "base_uri": "https://localhost:8080/"
    },
    "executionInfo": {
     "elapsed": 362,
     "status": "ok",
     "timestamp": 1649922258449,
     "user": {
      "displayName": "ethan morian",
      "userId": "06379902278847879770"
     },
     "user_tz": -540
    },
    "id": "T5kwhLg8-4bH",
    "outputId": "1f037725-226f-42f1-db80-cea6db27cfd9"
   },
   "outputs": [
    {
     "data": {
      "text/plain": [
       "name      0\n",
       "score     0\n",
       "review    0\n",
       "dtype: int64"
      ]
     },
     "execution_count": 3,
     "metadata": {},
     "output_type": "execute_result"
    }
   ],
   "source": [
    "# null 확인\n",
    "review_data.isna().sum()"
   ]
  },
  {
   "cell_type": "code",
   "execution_count": 4,
   "metadata": {},
   "outputs": [
    {
     "data": {
      "text/html": [
       "<div>\n",
       "<style scoped>\n",
       "    .dataframe tbody tr th:only-of-type {\n",
       "        vertical-align: middle;\n",
       "    }\n",
       "\n",
       "    .dataframe tbody tr th {\n",
       "        vertical-align: top;\n",
       "    }\n",
       "\n",
       "    .dataframe thead th {\n",
       "        text-align: right;\n",
       "    }\n",
       "</style>\n",
       "<table border=\"1\" class=\"dataframe\">\n",
       "  <thead>\n",
       "    <tr style=\"text-align: right;\">\n",
       "      <th></th>\n",
       "      <th>name</th>\n",
       "      <th>score</th>\n",
       "      <th>review</th>\n",
       "      <th>label</th>\n",
       "    </tr>\n",
       "  </thead>\n",
       "  <tbody>\n",
       "    <tr>\n",
       "      <th>0</th>\n",
       "      <td>카페디퍼</td>\n",
       "      <td>80</td>\n",
       "      <td>주차도 할겸 따뜻한라떼 한잔 마시는데 중년의 사장님이 샷이 잘못되었다며 다시 가져다...</td>\n",
       "      <td>1</td>\n",
       "    </tr>\n",
       "    <tr>\n",
       "      <th>1</th>\n",
       "      <td>롯데시네마 도곡</td>\n",
       "      <td>100</td>\n",
       "      <td>역시 새 영화관이라 그런지 시설이 좋습니다\\n공기도 쾌적하고 주말에 차가 많은 거 ...</td>\n",
       "      <td>1</td>\n",
       "    </tr>\n",
       "    <tr>\n",
       "      <th>2</th>\n",
       "      <td>롯데시네마 도곡</td>\n",
       "      <td>100</td>\n",
       "      <td>깔끔하네요</td>\n",
       "      <td>1</td>\n",
       "    </tr>\n",
       "    <tr>\n",
       "      <th>3</th>\n",
       "      <td>롯데시네마 도곡</td>\n",
       "      <td>100</td>\n",
       "      <td>인간적으로 롯데시네마 \"매봉\"이라고 하자....\\n도곡역 갔다 옴</td>\n",
       "      <td>1</td>\n",
       "    </tr>\n",
       "    <tr>\n",
       "      <th>4</th>\n",
       "      <td>이소젠네타</td>\n",
       "      <td>100</td>\n",
       "      <td>갠적으로 오복수산보다 훨씬 맛있었음 ..\\n진짜 강추</td>\n",
       "      <td>1</td>\n",
       "    </tr>\n",
       "    <tr>\n",
       "      <th>...</th>\n",
       "      <td>...</td>\n",
       "      <td>...</td>\n",
       "      <td>...</td>\n",
       "      <td>...</td>\n",
       "    </tr>\n",
       "    <tr>\n",
       "      <th>1192</th>\n",
       "      <td>원포셰</td>\n",
       "      <td>100</td>\n",
       "      <td>동네 최애 디저트집</td>\n",
       "      <td>1</td>\n",
       "    </tr>\n",
       "    <tr>\n",
       "      <th>1193</th>\n",
       "      <td>바이칼리아</td>\n",
       "      <td>60</td>\n",
       "      <td>공간은 예쁘고 쾌적해서 좋습니다. 지금 정도 날씨에는 야외석을 추천\\n디저트랑 음료...</td>\n",
       "      <td>0</td>\n",
       "    </tr>\n",
       "    <tr>\n",
       "      <th>1194</th>\n",
       "      <td>바이칼리아</td>\n",
       "      <td>60</td>\n",
       "      <td>2층 대형카페인데 사람 많지 않고 분위기 좋고 컬러감이 좋아요! 가격은 위치가 위치...</td>\n",
       "      <td>0</td>\n",
       "    </tr>\n",
       "    <tr>\n",
       "      <th>1195</th>\n",
       "      <td>바이칼리아</td>\n",
       "      <td>60</td>\n",
       "      <td>최고예요!! 사장님도 너무 친절하세요😎</td>\n",
       "      <td>0</td>\n",
       "    </tr>\n",
       "    <tr>\n",
       "      <th>1196</th>\n",
       "      <td>릿라운지</td>\n",
       "      <td>100</td>\n",
       "      <td>재밌어요 술 맛있어요~!! 게임도 재밌아용</td>\n",
       "      <td>1</td>\n",
       "    </tr>\n",
       "  </tbody>\n",
       "</table>\n",
       "<p>1197 rows × 4 columns</p>\n",
       "</div>"
      ],
      "text/plain": [
       "          name  score                                             review  \\\n",
       "0         카페디퍼     80  주차도 할겸 따뜻한라떼 한잔 마시는데 중년의 사장님이 샷이 잘못되었다며 다시 가져다...   \n",
       "1     롯데시네마 도곡    100  역시 새 영화관이라 그런지 시설이 좋습니다\\n공기도 쾌적하고 주말에 차가 많은 거 ...   \n",
       "2     롯데시네마 도곡    100                                              깔끔하네요   \n",
       "3     롯데시네마 도곡    100               인간적으로 롯데시네마 \"매봉\"이라고 하자....\\n도곡역 갔다 옴   \n",
       "4        이소젠네타    100                      갠적으로 오복수산보다 훨씬 맛있었음 ..\\n진짜 강추   \n",
       "...        ...    ...                                                ...   \n",
       "1192       원포셰    100                                         동네 최애 디저트집   \n",
       "1193     바이칼리아     60  공간은 예쁘고 쾌적해서 좋습니다. 지금 정도 날씨에는 야외석을 추천\\n디저트랑 음료...   \n",
       "1194     바이칼리아     60  2층 대형카페인데 사람 많지 않고 분위기 좋고 컬러감이 좋아요! 가격은 위치가 위치...   \n",
       "1195     바이칼리아     60                              최고예요!! 사장님도 너무 친절하세요😎   \n",
       "1196      릿라운지    100                            재밌어요 술 맛있어요~!! 게임도 재밌아용   \n",
       "\n",
       "      label  \n",
       "0         1  \n",
       "1         1  \n",
       "2         1  \n",
       "3         1  \n",
       "4         1  \n",
       "...     ...  \n",
       "1192      1  \n",
       "1193      0  \n",
       "1194      0  \n",
       "1195      0  \n",
       "1196      1  \n",
       "\n",
       "[1197 rows x 4 columns]"
      ]
     },
     "execution_count": 4,
     "metadata": {},
     "output_type": "execute_result"
    }
   ],
   "source": [
    "# 80점 이상이 긍정이란 가정하에 긍, 부정 라벨링\n",
    "review_data['label'] = [1 if i > 60 else 0 for i in review_data['score']]\n",
    "review_data"
   ]
  },
  {
   "cell_type": "code",
   "execution_count": 5,
   "metadata": {},
   "outputs": [
    {
     "data": {
      "text/plain": [
       "<AxesSubplot:>"
      ]
     },
     "execution_count": 5,
     "metadata": {},
     "output_type": "execute_result"
    },
    {
     "data": {
      "image/png": "[encoded data removed]",
      "text/plain": [
       "<Figure size 432x288 with 1 Axes>"
      ]
     },
     "metadata": {
      "needs_background": "light"
     },
     "output_type": "display_data"
    }
   ],
   "source": [
    "# 긍, 부정 분포\n",
    "review_data['label'].value_counts().plot(kind = 'bar')"
   ]
  },
  {
   "cell_type": "code",
   "execution_count": 6,
   "metadata": {},
   "outputs": [
    {
     "data": {
      "text/html": [
       "<div>\n",
       "<style scoped>\n",
       "    .dataframe tbody tr th:only-of-type {\n",
       "        vertical-align: middle;\n",
       "    }\n",
       "\n",
       "    .dataframe tbody tr th {\n",
       "        vertical-align: top;\n",
       "    }\n",
       "\n",
       "    .dataframe thead th {\n",
       "        text-align: right;\n",
       "    }\n",
       "</style>\n",
       "<table border=\"1\" class=\"dataframe\">\n",
       "  <thead>\n",
       "    <tr style=\"text-align: right;\">\n",
       "      <th></th>\n",
       "      <th>name</th>\n",
       "      <th>score</th>\n",
       "      <th>review</th>\n",
       "      <th>label</th>\n",
       "      <th>tokenized</th>\n",
       "    </tr>\n",
       "  </thead>\n",
       "  <tbody>\n",
       "    <tr>\n",
       "      <th>0</th>\n",
       "      <td>카페디퍼</td>\n",
       "      <td>80</td>\n",
       "      <td>주차도할겸따뜻한라떼한잔마시는데중년의사장님이샷이잘못되었다며다시가져다주시네요나중라떼가더...</td>\n",
       "      <td>1</td>\n",
       "      <td>[주차, 할, 겸, 따뜻한, 라떼, 한잔, 마시는데, 중년, 사장, 님, 샷, 잘못...</td>\n",
       "    </tr>\n",
       "    <tr>\n",
       "      <th>1</th>\n",
       "      <td>롯데시네마 도곡</td>\n",
       "      <td>100</td>\n",
       "      <td>역시새영화관이라그런지시설이좋습니다공기도쾌적하고주말에차가많은거빼곤다마음에듭니다</td>\n",
       "      <td>1</td>\n",
       "      <td>[역시, 새, 영화관, 이라, 그런지, 시설, 좋습니다, 공기, 쾌적하고주말에, 차...</td>\n",
       "    </tr>\n",
       "    <tr>\n",
       "      <th>2</th>\n",
       "      <td>롯데시네마 도곡</td>\n",
       "      <td>100</td>\n",
       "      <td>깔끔하네요</td>\n",
       "      <td>1</td>\n",
       "      <td>[깔끔하네요]</td>\n",
       "    </tr>\n",
       "    <tr>\n",
       "      <th>3</th>\n",
       "      <td>롯데시네마 도곡</td>\n",
       "      <td>100</td>\n",
       "      <td>인간적으로롯데시네마매봉이라고하자도곡역갔다옴</td>\n",
       "      <td>1</td>\n",
       "      <td>[인간, 적, 으로, 롯데, 시, 마매, 봉, 이라고, 하자, 도곡역, 갔다, 옴]</td>\n",
       "    </tr>\n",
       "    <tr>\n",
       "      <th>4</th>\n",
       "      <td>이소젠네타</td>\n",
       "      <td>100</td>\n",
       "      <td>갠적으로오복수산보다훨씬맛있었음진짜강추</td>\n",
       "      <td>1</td>\n",
       "      <td>[갠, 적, 으로, 오복, 수산, 보다, 훨씬, 맛있었음, 진짜, 강추]</td>\n",
       "    </tr>\n",
       "  </tbody>\n",
       "</table>\n",
       "</div>"
      ],
      "text/plain": [
       "       name  score                                             review  label  \\\n",
       "0      카페디퍼     80  주차도할겸따뜻한라떼한잔마시는데중년의사장님이샷이잘못되었다며다시가져다주시네요나중라떼가더...      1   \n",
       "1  롯데시네마 도곡    100         역시새영화관이라그런지시설이좋습니다공기도쾌적하고주말에차가많은거빼곤다마음에듭니다      1   \n",
       "2  롯데시네마 도곡    100                                              깔끔하네요      1   \n",
       "3  롯데시네마 도곡    100                            인간적으로롯데시네마매봉이라고하자도곡역갔다옴      1   \n",
       "4     이소젠네타    100                               갠적으로오복수산보다훨씬맛있었음진짜강추      1   \n",
       "\n",
       "                                           tokenized  \n",
       "0  [주차, 할, 겸, 따뜻한, 라떼, 한잔, 마시는데, 중년, 사장, 님, 샷, 잘못...  \n",
       "1  [역시, 새, 영화관, 이라, 그런지, 시설, 좋습니다, 공기, 쾌적하고주말에, 차...  \n",
       "2                                            [깔끔하네요]  \n",
       "3     [인간, 적, 으로, 롯데, 시, 마매, 봉, 이라고, 하자, 도곡역, 갔다, 옴]  \n",
       "4           [갠, 적, 으로, 오복, 수산, 보다, 훨씬, 맛있었음, 진짜, 강추]  "
      ]
     },
     "execution_count": 6,
     "metadata": {},
     "output_type": "execute_result"
    }
   ],
   "source": [
    "# 한글만 남기기\n",
    "review_data['review'] = review_data['review'].str.replace(\"[^ㄱ-ㅎㅏ-ㅣ가-힣]\",\"\")\n",
    "\n",
    "# 불용어 리스트\n",
    "stopwords = ['도', '는', '다', '의', '가', '이', '은', '한', '에', '하', '고', '을', '를', '인', '듯', '과', '와', '네', '들', '듯', '지', '임', '게']\n",
    "\n",
    "# 토큰화 후 불용어 제거\n",
    "review_data['tokenized'] = review_data['review'].apply(t.morphs)\n",
    "review_data['tokenized'] = review_data['tokenized'].apply(lambda x: [item for item in x if item not in stopwords])\n",
    "\n",
    "review_data.head()"
   ]
  },
  {
   "cell_type": "code",
   "execution_count": 7,
   "metadata": {},
   "outputs": [],
   "source": [
    "# 긍정과 부정에 따른 단어의 빈도수\n",
    "positive_words = np.hstack(review_data[review_data.label == 1]['tokenized'].values)\n",
    "negative_words = np.hstack(review_data[review_data.label == 0]['tokenized'].values)"
   ]
  },
  {
   "cell_type": "code",
   "execution_count": 8,
   "metadata": {},
   "outputs": [
    {
     "name": "stdout",
     "output_type": "stream",
     "text": [
      "[('맛', 110), ('너무', 78), ('보기', 73), ('더', 66), ('분', 64), ('커피', 57), ('에서', 56), ('직원', 52), ('하고', 46), ('곳', 42), ('로', 41), ('메뉴', 39), ('손님', 39), ('사장', 39), ('요', 38), ('으로', 38), ('주문', 36), ('그냥', 35), ('진짜', 34), ('만', 34)]\n"
     ]
    }
   ],
   "source": [
    "# 부정 리뷰에 많이 나온 토큰\n",
    "negative_word_count = Counter(negative_words)\n",
    "print(negative_word_count.most_common(20))"
   ]
  },
  {
   "cell_type": "code",
   "execution_count": 9,
   "metadata": {},
   "outputs": [
    {
     "name": "stdout",
     "output_type": "stream",
     "text": [
      "[('너무', 153), ('맛', 132), ('커피', 97), ('맛있어요', 88), ('님', 85), ('사장', 75), ('더', 72), ('보기', 65), ('진짜', 64), ('가격', 59), ('분위기', 57), ('만', 56), ('에서', 51), ('좋아요', 49), ('로', 49), ('으로', 45), ('곳', 44), ('분', 43), ('적', 42), ('직원', 42)]\n"
     ]
    }
   ],
   "source": [
    "# 긍정 리뷰에 많이 나온 토큰\n",
    "positive_word_count = Counter(positive_words)\n",
    "print(positive_word_count.most_common(20))"
   ]
  },
  {
   "cell_type": "code",
   "execution_count": 10,
   "metadata": {},
   "outputs": [
    {
     "data": {
      "text/plain": [
       "<matplotlib.image.AxesImage at 0x22f26c63e80>"
      ]
     },
     "execution_count": 10,
     "metadata": {},
     "output_type": "execute_result"
    },
    {
     "data": {
      "image/png": "[encoded data removed]",
      "text/plain": [
       "<Figure size 432x288 with 1 Axes>"
      ]
     },
     "metadata": {
      "needs_background": "light"
     },
     "output_type": "display_data"
    }
   ],
   "source": [
    "# 부정 워드클라우드\n",
    "wc = WordCloud(font_path='C:/Windows/Fonts/malgun.ttf', width=400, height=400, scale=2.0, max_font_size=250)\n",
    "gen = wc.generate_from_frequencies(negative_word_count)\n",
    "plt.figure()\n",
    "plt.imshow(gen)"
   ]
  },
  {
   "cell_type": "code",
   "execution_count": 11,
   "metadata": {},
   "outputs": [
    {
     "data": {
      "text/plain": [
       "<matplotlib.image.AxesImage at 0x22f26ec37c0>"
      ]
     },
     "execution_count": 11,
     "metadata": {},
     "output_type": "execute_result"
    },
    {
     "data": {
      "image/png": "[encoded data removed]",
      "text/plain": [
       "<Figure size 432x288 with 1 Axes>"
      ]
     },
     "metadata": {
      "needs_background": "light"
     },
     "output_type": "display_data"
    }
   ],
   "source": [
    "# 긍정 워드클라우드\n",
    "wc = WordCloud(font_path='C:/Windows/Fonts/malgun.ttf', width=400, height=400, scale=2.0, max_font_size=250)\n",
    "gen = wc.generate_from_frequencies(positive_word_count)\n",
    "plt.figure()\n",
    "plt.imshow(gen)"
   ]
  },
  {
   "cell_type": "code",
   "execution_count": 12,
   "metadata": {},
   "outputs": [
    {
     "name": "stdout",
     "output_type": "stream",
     "text": [
      "긍정 리뷰의 평균 길이 : 15.504098360655737\n",
      "부정 리뷰의 평균 길이 : 20.946236559139784\n"
     ]
    },
    {
     "data": {
      "image/png": "[encoded data removed]",
      "text/plain": [
       "<Figure size 720x360 with 2 Axes>"
      ]
     },
     "metadata": {
      "needs_background": "light"
     },
     "output_type": "display_data"
    }
   ],
   "source": [
    "# 그래프 한글 깨짐\n",
    "plt.rc('font', family='Malgun Gothic')\n",
    "\n",
    "# 긍정과 부정에 따른 길이 분포\n",
    "fig,(ax1,ax2) = plt.subplots(1,2,figsize=(10,5))\n",
    "text_len = review_data[review_data['label']==1]['tokenized'].map(lambda x: len(x))\n",
    "ax1.hist(text_len, color='red')\n",
    "ax1.set_title('긍정 리뷰')\n",
    "ax1.set_xlabel('리뷰 길이')\n",
    "ax1.set_ylabel('리뷰 수')\n",
    "print('긍정 리뷰의 평균 길이 :', np.mean(text_len))\n",
    "\n",
    "text_len = review_data[review_data['label']==0]['tokenized'].map(lambda x: len(x))\n",
    "ax2.hist(text_len, color='blue')\n",
    "ax2.set_title('부정 리뷰')\n",
    "fig.suptitle('리뷰 단어')\n",
    "ax2.set_xlabel('리뷰 길이')\n",
    "ax2.set_ylabel('리뷰 수')\n",
    "print('부정 리뷰의 평균 길이 :', np.mean(text_len))\n",
    "plt.show()"
   ]
  },
  {
   "cell_type": "code",
   "execution_count": 13,
   "metadata": {
    "colab": {
     "base_uri": "https://localhost:8080/"
    },
    "executionInfo": {
     "elapsed": 5,
     "status": "ok",
     "timestamp": 1649922269416,
     "user": {
      "displayName": "ethan morian",
      "userId": "06379902278847879770"
     },
     "user_tz": -540
    },
    "id": "yfZ_xL3P-4bX",
    "outputId": "9053f6d9-7b20-4031-8242-b431e2f5b87a"
   },
   "outputs": [],
   "source": [
    "# 데이터 분리\n",
    "X_train, y_train, X_test, y_test = train_test_split(\n",
    "    review_data['tokenized'], review_data['label'], test_size = 0.15, random_state = 3\n",
    ")"
   ]
  },
  {
   "cell_type": "code",
   "execution_count": 28,
   "metadata": {
    "colab": {
     "base_uri": "https://localhost:8080/"
    },
    "executionInfo": {
     "elapsed": 55,
     "status": "ok",
     "timestamp": 1649922294911,
     "user": {
      "displayName": "ethan morian",
      "userId": "06379902278847879770"
     },
     "user_tz": -540
    },
    "id": "F8IjTql2-4bv",
    "outputId": "5807397a-237b-45d5-b556-d126a4b74abd"
   },
   "outputs": [
    {
     "name": "stdout",
     "output_type": "stream",
     "text": [
      "단어 집합(vocabulary)의 크기 : 1611\n",
      "등장 빈도가 1번 이하인 희귀 단어의 수: 1115\n",
      "단어 집합에서 희귀 단어의 비율: 69.21166977032898\n",
      "전체 등장 빈도에서 희귀 단어 등장 빈도 비율: 36.00258314497901\n"
     ]
    }
   ],
   "source": [
    "tokenizer.fit_on_texts(X_train)\n",
    "threshold = 2\n",
    "total_cnt = len(tokenizer.word_index) # 단어의 수\n",
    "rare_cnt = 0 # 등장 빈도수가 threshold보다 작은 단어의 개수를 카운트\n",
    "total_freq = 0 # 훈련 데이터의 전체 단어 빈도수 총 합\n",
    "rare_freq = 0 # 등장 빈도수가 threshold보다 작은 단어의 등장 빈도수의 총 합\n",
    "\n",
    "# 단어와 빈도수의 쌍(pair)을 key와 value로 받는다.\n",
    "for key, value in tokenizer.word_counts.items():\n",
    "    total_freq = total_freq + value\n",
    "\n",
    "    # 단어의 등장 빈도수가 threshold보다 작으면\n",
    "    if(value < threshold):\n",
    "        rare_cnt = rare_cnt + 1\n",
    "        rare_freq = rare_freq + value\n",
    "\n",
    "print('단어 집합(vocabulary)의 크기 :',total_cnt)\n",
    "print('등장 빈도가 %s번 이하인 희귀 단어의 수: %s'%(threshold - 1, rare_cnt))\n",
    "print(\"단어 집합에서 희귀 단어의 비율:\", (rare_cnt / total_cnt)*100)\n",
    "print(\"전체 등장 빈도에서 희귀 단어 등장 빈도 비율:\", (rare_freq / total_freq)*100)"
   ]
  },
  {
   "cell_type": "code",
   "execution_count": 29,
   "metadata": {
    "colab": {
     "base_uri": "https://localhost:8080/"
    },
    "executionInfo": {
     "elapsed": 52,
     "status": "ok",
     "timestamp": 1649922294912,
     "user": {
      "displayName": "ethan morian",
      "userId": "06379902278847879770"
     },
     "user_tz": -540
    },
    "id": "MNpLxSIc-4bw",
    "outputId": "8d19063b-aa23-4dfc-ca6f-0a022d69e906"
   },
   "outputs": [
    {
     "data": {
      "text/plain": [
       "498"
      ]
     },
     "execution_count": 29,
     "metadata": {},
     "output_type": "execute_result"
    }
   ],
   "source": [
    "# 0번 패딩 토큰과 1번 OOV 토큰을 고려하여 +2\n",
    "vocab_size = total_cnt - rare_cnt + 2\n",
    "vocab_size"
   ]
  },
  {
   "cell_type": "code",
   "execution_count": 30,
   "metadata": {
    "executionInfo": {
     "elapsed": 50,
     "status": "ok",
     "timestamp": 1649922294914,
     "user": {
      "displayName": "ethan morian",
      "userId": "06379902278847879770"
     },
     "user_tz": -540
    },
    "id": "ogZQTBs9-4bx"
   },
   "outputs": [],
   "source": [
    "tokenizer = Tokenizer(vocab_size, oov_token='OOV')\n",
    "tokenizer.fit_on_texts(X_train)\n",
    "X_train = tokenizer.texts_to_sequences(X_train)\n",
    "X_test = tokenizer.texts_to_sequences(X_test)"
   ]
  },
  {
   "cell_type": "code",
   "execution_count": 31,
   "metadata": {
    "colab": {
     "base_uri": "https://localhost:8080/"
    },
    "executionInfo": {
     "elapsed": 50,
     "status": "ok",
     "timestamp": 1649922294915,
     "user": {
      "displayName": "ethan morian",
      "userId": "06379902278847879770"
     },
     "user_tz": -540
    },
    "id": "6Xi0qI2v-4by",
    "outputId": "bc378821-a91f-4336-bfc2-2e26a45e81b4"
   },
   "outputs": [
    {
     "name": "stdout",
     "output_type": "stream",
     "text": [
      "[[112, 1, 1, 1, 7, 5, 53, 167, 1, 113, 1, 21, 27, 1, 15], [114, 4, 115, 1, 114, 68, 1, 1, 1], [168, 1, 1, 1, 116, 28, 1, 169, 39, 54, 7, 5, 1, 117, 118, 265, 16, 266]]\n"
     ]
    }
   ],
   "source": [
    "print(X_train[:3])"
   ]
  },
  {
   "cell_type": "code",
   "execution_count": 32,
   "metadata": {
    "colab": {
     "base_uri": "https://localhost:8080/"
    },
    "executionInfo": {
     "elapsed": 45,
     "status": "ok",
     "timestamp": 1649922294916,
     "user": {
      "displayName": "ethan morian",
      "userId": "06379902278847879770"
     },
     "user_tz": -540
    },
    "id": "waoCkuuV-4bz",
    "outputId": "8cec0521-7cb8-4ee9-c209-d88dd3c8c38b"
   },
   "outputs": [
    {
     "name": "stdout",
     "output_type": "stream",
     "text": [
      "[[3, 9, 1], [2, 1, 171, 40, 13, 242, 1, 134, 1, 1, 7, 5, 364, 238], [99, 137, 1, 1, 1, 24, 16, 211]]\n"
     ]
    }
   ],
   "source": [
    "print(X_test[:3])"
   ]
  },
  {
   "cell_type": "code",
   "execution_count": 33,
   "metadata": {
    "colab": {
     "base_uri": "https://localhost:8080/",
     "height": 320
    },
    "executionInfo": {
     "elapsed": 40,
     "status": "ok",
     "timestamp": 1649922294917,
     "user": {
      "displayName": "ethan morian",
      "userId": "06379902278847879770"
     },
     "user_tz": -540
    },
    "id": "L5O1n1mB-4b0",
    "outputId": "f57eacd5-adca-4680-b6b5-eade90db308a"
   },
   "outputs": [
    {
     "name": "stdout",
     "output_type": "stream",
     "text": [
      "리뷰의 최대 길이 : 67\n",
      "리뷰의 평균 길이 : 18.76969696969697\n"
     ]
    },
    {
     "data": {
      "image/png": "[encoded data removed]",
      "text/plain": [
       "<Figure size 432x288 with 1 Axes>"
      ]
     },
     "metadata": {
      "needs_background": "light"
     },
     "output_type": "display_data"
    }
   ],
   "source": [
    "print('리뷰의 최대 길이 :',max(len(review) for review in X_train))\n",
    "print('리뷰의 평균 길이 :',sum(map(len, X_train))/len(X_train))\n",
    "plt.hist([len(review) for review in X_train], bins=50)\n",
    "plt.xlabel('리뷰 길이')\n",
    "plt.ylabel('리뷰 수')\n",
    "plt.show()"
   ]
  },
  {
   "cell_type": "code",
   "execution_count": 36,
   "metadata": {
    "executionInfo": {
     "elapsed": 34,
     "status": "ok",
     "timestamp": 1649922294919,
     "user": {
      "displayName": "ethan morian",
      "userId": "06379902278847879770"
     },
     "user_tz": -540
    },
    "id": "IC_K6rVg-4b0"
   },
   "outputs": [],
   "source": [
    "def below_threshold_len(max_len, nested_list):\n",
    "  count = 0\n",
    "  for sentence in nested_list:\n",
    "    if(len(sentence) <= max_len):\n",
    "        count = count + 1\n",
    "  print('전체 샘플 중 길이가 %s 이하인 샘플의 비율: %s'%(max_len, (count / len(nested_list))*100))"
   ]
  },
  {
   "cell_type": "code",
   "execution_count": 39,
   "metadata": {
    "colab": {
     "base_uri": "https://localhost:8080/"
    },
    "executionInfo": {
     "elapsed": 34,
     "status": "ok",
     "timestamp": 1649922294921,
     "user": {
      "displayName": "ethan morian",
      "userId": "06379902278847879770"
     },
     "user_tz": -540
    },
    "id": "Pqz23E1I-4b1",
    "outputId": "25c9ccb2-9256-47fe-c40d-2d357a9ad8ba"
   },
   "outputs": [
    {
     "name": "stdout",
     "output_type": "stream",
     "text": [
      "전체 샘플 중 길이가 18 이하인 샘플의 비율: 63.63636363636363\n"
     ]
    }
   ],
   "source": [
    "max_len = sum(map(len, X_train))//len(X_train)\n",
    "below_threshold_len(max_len, X_train)"
   ]
  },
  {
   "cell_type": "code",
   "execution_count": 40,
   "metadata": {
    "executionInfo": {
     "elapsed": 31,
     "status": "ok",
     "timestamp": 1649922294923,
     "user": {
      "displayName": "ethan morian",
      "userId": "06379902278847879770"
     },
     "user_tz": -540
    },
    "id": "YLYWbSu2-4b2"
   },
   "outputs": [],
   "source": [
    "X_train = pad_sequences(X_train, maxlen=max_len)\n",
    "X_test = pad_sequences(X_test, maxlen=max_len)"
   ]
  },
  {
   "cell_type": "code",
   "execution_count": 41,
   "metadata": {
    "colab": {
     "base_uri": "https://localhost:8080/"
    },
    "executionInfo": {
     "elapsed": 21166,
     "status": "ok",
     "timestamp": 1649922316059,
     "user": {
      "displayName": "ethan morian",
      "userId": "06379902278847879770"
     },
     "user_tz": -540
    },
    "id": "SCUtaHb5-4b2",
    "outputId": "68f1d563-58c0-4fb7-94d8-41a5d6b9ebea"
   },
   "outputs": [
    {
     "name": "stdout",
     "output_type": "stream",
     "text": [
      "Epoch 1/15\n",
      "1/3 [=========>....................] - ETA: 6s - loss: 0.6926 - acc: 0.4688\n",
      "Epoch 1: val_acc improved from -inf to 0.57576, saving model to best_model.h5\n",
      "3/3 [==============================] - 4s 411ms/step - loss: 0.6859 - acc: 0.5379 - val_loss: 0.6692 - val_acc: 0.5758\n",
      "Epoch 2/15\n",
      "1/3 [=========>....................] - ETA: 0s - loss: 0.6449 - acc: 0.6562\n",
      "Epoch 2: val_acc did not improve from 0.57576\n",
      "3/3 [==============================] - 0s 38ms/step - loss: 0.6547 - acc: 0.6136 - val_loss: 0.6607 - val_acc: 0.5758\n",
      "Epoch 3/15\n",
      "1/3 [=========>....................] - ETA: 0s - loss: 0.5802 - acc: 0.6719\n",
      "Epoch 3: val_acc did not improve from 0.57576\n",
      "3/3 [==============================] - 0s 34ms/step - loss: 0.6129 - acc: 0.6136 - val_loss: 0.6774 - val_acc: 0.5758\n",
      "Epoch 4/15\n",
      "1/3 [=========>....................] - ETA: 0s - loss: 0.5597 - acc: 0.5938\n",
      "Epoch 4: val_acc did not improve from 0.57576\n",
      "3/3 [==============================] - 0s 41ms/step - loss: 0.5772 - acc: 0.6288 - val_loss: 0.6273 - val_acc: 0.5758\n",
      "Epoch 5/15\n",
      "3/3 [==============================] - ETA: 0s - loss: 0.5331 - acc: 0.7803\n",
      "Epoch 5: val_acc did not improve from 0.57576\n",
      "3/3 [==============================] - 0s 57ms/step - loss: 0.5331 - acc: 0.7803 - val_loss: 0.7164 - val_acc: 0.5758\n",
      "Epoch 6/15\n",
      "3/3 [==============================] - ETA: 0s - loss: 0.5149 - acc: 0.7197\n",
      "Epoch 6: val_acc improved from 0.57576 to 0.60606, saving model to best_model.h5\n",
      "3/3 [==============================] - 0s 65ms/step - loss: 0.5149 - acc: 0.7197 - val_loss: 0.6095 - val_acc: 0.6061\n",
      "Epoch 7/15\n",
      "2/3 [===================>..........] - ETA: 0s - loss: 0.4591 - acc: 0.8438\n",
      "Epoch 7: val_acc did not improve from 0.60606\n",
      "3/3 [==============================] - 0s 52ms/step - loss: 0.4523 - acc: 0.8485 - val_loss: 0.7159 - val_acc: 0.6061\n",
      "Epoch 8/15\n",
      "1/3 [=========>....................] - ETA: 0s - loss: 0.3946 - acc: 0.8750\n",
      "Epoch 8: val_acc improved from 0.60606 to 0.72727, saving model to best_model.h5\n",
      "3/3 [==============================] - 0s 188ms/step - loss: 0.3896 - acc: 0.8864 - val_loss: 0.6234 - val_acc: 0.7273\n",
      "Epoch 9/15\n",
      "3/3 [==============================] - ETA: 0s - loss: 0.3388 - acc: 0.9091\n",
      "Epoch 9: val_acc did not improve from 0.72727\n",
      "3/3 [==============================] - 0s 57ms/step - loss: 0.3388 - acc: 0.9091 - val_loss: 0.7017 - val_acc: 0.6970\n",
      "Epoch 10/15\n",
      "3/3 [==============================] - ETA: 0s - loss: 0.2939 - acc: 0.9242\n",
      "Epoch 10: val_acc did not improve from 0.72727\n",
      "3/3 [==============================] - 0s 54ms/step - loss: 0.2939 - acc: 0.9242 - val_loss: 0.5720 - val_acc: 0.7273\n",
      "Epoch 11/15\n",
      "3/3 [==============================] - ETA: 0s - loss: 0.2020 - acc: 0.9470\n",
      "Epoch 11: val_acc did not improve from 0.72727\n",
      "3/3 [==============================] - 0s 49ms/step - loss: 0.2020 - acc: 0.9470 - val_loss: 0.7542 - val_acc: 0.6667\n",
      "Epoch 12/15\n",
      "3/3 [==============================] - ETA: 0s - loss: 0.1481 - acc: 0.9545\n",
      "Epoch 12: val_acc did not improve from 0.72727\n",
      "3/3 [==============================] - 0s 50ms/step - loss: 0.1481 - acc: 0.9545 - val_loss: 0.6943 - val_acc: 0.6667\n",
      "Epoch 13/15\n",
      "3/3 [==============================] - ETA: 0s - loss: 0.1279 - acc: 0.9697\n",
      "Epoch 13: val_acc did not improve from 0.72727\n",
      "3/3 [==============================] - 0s 44ms/step - loss: 0.1279 - acc: 0.9697 - val_loss: 0.9482 - val_acc: 0.6667\n",
      "Epoch 14/15\n",
      "3/3 [==============================] - ETA: 0s - loss: 0.0968 - acc: 0.9545\n",
      "Epoch 14: val_acc improved from 0.72727 to 0.81818, saving model to best_model.h5\n",
      "3/3 [==============================] - 0s 60ms/step - loss: 0.0968 - acc: 0.9545 - val_loss: 0.7000 - val_acc: 0.8182\n",
      "Epoch 14: early stopping\n"
     ]
    }
   ],
   "source": [
    "embedding_dim = 100\n",
    "hidden_units = 128\n",
    "\n",
    "model = Sequential()\n",
    "model.add(Embedding(vocab_size, embedding_dim))\n",
    "model.add(GRU(hidden_units))\n",
    "model.add(Dense(1, activation='sigmoid'))\n",
    "\n",
    "es = EarlyStopping(monitor='val_loss', mode='min', verbose=1, patience=4)\n",
    "mc = ModelCheckpoint('best_model.h5', monitor='val_acc', mode='max', verbose=1, save_best_only=True)\n",
    "\n",
    "model.compile(optimizer='rmsprop', loss='binary_crossentropy', metrics=['acc'])\n",
    "history = model.fit(X_train, y_train, epochs=15, callbacks=[es, mc], batch_size=64, validation_split=0.2)"
   ]
  },
  {
   "cell_type": "code",
   "execution_count": 42,
   "metadata": {
    "colab": {
     "base_uri": "https://localhost:8080/"
    },
    "executionInfo": {
     "elapsed": 1870,
     "status": "ok",
     "timestamp": 1649922317910,
     "user": {
      "displayName": "ethan morian",
      "userId": "06379902278847879770"
     },
     "user_tz": -540
    },
    "id": "HVUwcgPR-4b3",
    "outputId": "61ad80df-46ba-4804-8582-2e7eee171ffb"
   },
   "outputs": [
    {
     "name": "stdout",
     "output_type": "stream",
     "text": [
      "2/2 [==============================] - 0s 7ms/step - loss: 0.5476 - acc: 0.7407\n",
      "\n",
      " 테스트 정확도: 0.7407\n"
     ]
    }
   ],
   "source": [
    "loaded_model = load_model('best_model.h5')\n",
    "print(\"\\n 테스트 정확도: %.4f\" % (loaded_model.evaluate(X_test, y_test)[1]))"
   ]
  },
  {
   "cell_type": "code",
   "execution_count": 43,
   "metadata": {
    "executionInfo": {
     "elapsed": 39,
     "status": "ok",
     "timestamp": 1649922317911,
     "user": {
      "displayName": "ethan morian",
      "userId": "06379902278847879770"
     },
     "user_tz": -540
    },
    "id": "0oQdHHLL-4b4"
   },
   "outputs": [],
   "source": [
    "def sentiment_predict(new_sentence):\n",
    "  new_sentence = re.sub(r'[^ㄱ-ㅎㅏ-ㅣ가-힣 ]','', new_sentence)\n",
    "  new_sentence = t.morphs(new_sentence)\n",
    "  new_sentence = [word for word in new_sentence if not word in stopwords]\n",
    "  encoded = tokenizer.texts_to_sequences([new_sentence])\n",
    "  pad_new = pad_sequences(encoded, maxlen = max_len)\n",
    "\n",
    "  score = float(loaded_model.predict(pad_new))\n",
    "  if(score > 0.5):\n",
    "    print(\"{:.2f}% 확률로 긍정 리뷰입니다.\".format(score * 100))\n",
    "  else:\n",
    "    print(\"{:.2f}% 확률로 부정 리뷰입니다.\".format((1 - score) * 100))"
   ]
  },
  {
   "cell_type": "code",
   "execution_count": 44,
   "metadata": {
    "colab": {
     "base_uri": "https://localhost:8080/"
    },
    "executionInfo": {
     "elapsed": 40,
     "status": "ok",
     "timestamp": 1649922317913,
     "user": {
      "displayName": "ethan morian",
      "userId": "06379902278847879770"
     },
     "user_tz": -540
    },
    "id": "jx7wqH2T-4b4",
    "outputId": "f5e1dd6c-009d-4873-b570-3f379dc0d524"
   },
   "outputs": [
    {
     "name": "stdout",
     "output_type": "stream",
     "text": [
      "1/1 [==============================] - 0s 313ms/step\n",
      "87.82% 확률로 긍정 리뷰입니다.\n"
     ]
    }
   ],
   "source": [
    "sentiment_predict('너무 맛있어서 토했어요')"
   ]
  },
  {
   "cell_type": "code",
   "execution_count": 45,
   "metadata": {
    "colab": {
     "base_uri": "https://localhost:8080/"
    },
    "executionInfo": {
     "elapsed": 360,
     "status": "ok",
     "timestamp": 1649923823812,
     "user": {
      "displayName": "ethan morian",
      "userId": "06379902278847879770"
     },
     "user_tz": -540
    },
    "id": "hoVRF5zoB1ZF",
    "outputId": "f9d50d15-09de-4d64-cceb-f854af90218d"
   },
   "outputs": [
    {
     "name": "stdout",
     "output_type": "stream",
     "text": [
      "1/1 [==============================] - 0s 18ms/step\n",
      "90.47% 확률로 긍정 리뷰입니다.\n"
     ]
    }
   ],
   "source": [
    "sentiment_predict('너무 맛있어서 쓰레기통에 잘 넣어 놨어요')"
   ]
  },
  {
   "cell_type": "code",
   "execution_count": 46,
   "metadata": {
    "colab": {
     "base_uri": "https://localhost:8080/"
    },
    "executionInfo": {
     "elapsed": 535,
     "status": "ok",
     "timestamp": 1649923837657,
     "user": {
      "displayName": "ethan morian",
      "userId": "06379902278847879770"
     },
     "user_tz": -540
    },
    "id": "Dw0wj7YMHeFc",
    "outputId": "652cf509-e642-4ce0-c9bd-c112ee83a5d7"
   },
   "outputs": [
    {
     "name": "stdout",
     "output_type": "stream",
     "text": [
      "1/1 [==============================] - 0s 22ms/step\n",
      "67.11% 확률로 부정 리뷰입니다.\n"
     ]
    }
   ],
   "source": [
    "sentiment_predict('이 맛을 혼자만 느낄 수 없어 비둘기한테 줬더니 맛있게 먹었어요')"
   ]
  },
  {
   "cell_type": "code",
   "execution_count": 50,
   "metadata": {},
   "outputs": [
    {
     "name": "stdout",
     "output_type": "stream",
     "text": [
      "1/1 [==============================] - 0s 21ms/step\n",
      "74.88% 확률로 긍정 리뷰입니다.\n"
     ]
    }
   ],
   "source": [
    "sentiment_predict('설거지 좀 제대로 해주세요. 그릇 겉에 국물 마른 자국이 항상 있네요')"
   ]
  }
 ],
 "metadata": {
  "colab": {
   "collapsed_sections": [],
   "name": "비정형 데이터 감성분석.ipynb",
   "provenance": []
  },
  "kernelspec": {
   "display_name": "Python 3.9.12 ('base')",
   "language": "python",
   "name": "python3"
  },
  "language_info": {
   "codemirror_mode": {
    "name": "ipython",
    "version": 3
   },
   "file_extension": ".py",
   "mimetype": "text/x-python",
   "name": "python",
   "nbconvert_exporter": "python",
   "pygments_lexer": "ipython3",
   "version": "3.9.12"
  },
  "vscode": {
   "interpreter": {
    "hash": "ad2bdc8ecc057115af97d19610ffacc2b4e99fae6737bb82f5d7fb13d2f2c186"
   }
  }
 },
 "nbformat": 4,
 "nbformat_minor": 1
}
