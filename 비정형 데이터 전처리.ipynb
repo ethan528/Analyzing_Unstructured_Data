{
 "cells": [
  {
   "cell_type": "code",
   "execution_count": 1,
   "id": "d628a121",
   "metadata": {
    "id": "d628a121"
   },
   "outputs": [],
   "source": [
    "import pandas as pd\n",
    "import matplotlib.pyplot as plt\n",
    "import seaborn as sns\n",
    "import warnings\n",
    "warnings.filterwarnings('ignore')"
   ]
  },
  {
   "cell_type": "code",
   "execution_count": 2,
   "id": "d6c20dcd",
   "metadata": {
    "id": "d6c20dcd",
    "outputId": "0ba80dea-76dd-4ccb-e420-45dcbe25d4f3"
   },
   "outputs": [
    {
     "name": "stdout",
     "output_type": "stream",
     "text": [
      "Index(['개방자치단체코드', '관리번호', '인허가일자', '인허가취소일자', '영업상태코드', '영업상태명', '상세영업상태코드',\n",
      "       '상세영업상태명', '폐업일자', '휴업시작일자', '휴업종료일자', '재개업일자', '전화번호', '소재지면적',\n",
      "       '소재지우편번호', '지번주소', '도로명주소', '도로명우편번호', '사업장명', '최종수정일자', '데이터갱신구분',\n",
      "       '데이터갱신일자', '업태구분명', '좌표정보(X)', '좌표정보(Y)', '위생업태명', '남성종사자수', '여성종사자수',\n",
      "       '영업장주변구분명', '등급구분명', '급수시설구분명', '총인원', '본사종업원수', '공장사무직종업원수',\n",
      "       '공장판매직종업원수', '공장생산직종업원수', '건물소유구분명', '보증액', '월세액', '다중이용업소여부', '시설총규모',\n",
      "       '전통업소지정번호', '전통업소주된음식', '홈페이지'],\n",
      "      dtype='object')\n"
     ]
    }
   ],
   "source": [
    "df = pd.read_csv(\"./서울특별시 일반음식점 인허가 정보.csv\", encoding='cp949')\n",
    "print(df.columns)"
   ]
  },
  {
   "cell_type": "code",
   "execution_count": 3,
   "id": "419f390d",
   "metadata": {
    "id": "419f390d",
    "outputId": "fc2f9887-fc72-44c8-ebe0-d21142324588"
   },
   "outputs": [
    {
     "data": {
      "text/html": [
       "<div>\n",
       "<style scoped>\n",
       "    .dataframe tbody tr th:only-of-type {\n",
       "        vertical-align: middle;\n",
       "    }\n",
       "\n",
       "    .dataframe tbody tr th {\n",
       "        vertical-align: top;\n",
       "    }\n",
       "\n",
       "    .dataframe thead th {\n",
       "        text-align: right;\n",
       "    }\n",
       "</style>\n",
       "<table border=\"1\" class=\"dataframe\">\n",
       "  <thead>\n",
       "    <tr style=\"text-align: right;\">\n",
       "      <th></th>\n",
       "      <th>도로명주소</th>\n",
       "      <th>사업장명</th>\n",
       "      <th>업태구분명</th>\n",
       "      <th>좌표정보(X)</th>\n",
       "      <th>좌표정보(Y)</th>\n",
       "    </tr>\n",
       "  </thead>\n",
       "  <tbody>\n",
       "    <tr>\n",
       "      <th>0</th>\n",
       "      <td>NaN</td>\n",
       "      <td>일식동경</td>\n",
       "      <td>일식</td>\n",
       "      <td>NaN</td>\n",
       "      <td>NaN</td>\n",
       "    </tr>\n",
       "    <tr>\n",
       "      <th>1</th>\n",
       "      <td>서울특별시 종로구 삼일대로 382 (관철동)</td>\n",
       "      <td>상해</td>\n",
       "      <td>분식</td>\n",
       "      <td>198867.7026</td>\n",
       "      <td>451824.2811</td>\n",
       "    </tr>\n",
       "    <tr>\n",
       "      <th>2</th>\n",
       "      <td>서울특별시 관악구 신림로59길 15-13 4층 (신림동)</td>\n",
       "      <td>미쿠</td>\n",
       "      <td>일식</td>\n",
       "      <td>193687.3482</td>\n",
       "      <td>442284.1640</td>\n",
       "    </tr>\n",
       "    <tr>\n",
       "      <th>3</th>\n",
       "      <td>서울특별시 구로구 구로동로22길 21 1층 (구로동)</td>\n",
       "      <td>여름엔빙수겨울엔떡국</td>\n",
       "      <td>한식</td>\n",
       "      <td>189814.3059</td>\n",
       "      <td>443046.2399</td>\n",
       "    </tr>\n",
       "    <tr>\n",
       "      <th>4</th>\n",
       "      <td>서울특별시 강남구 삼성로85길 33 1층 102-2호 (대치동)</td>\n",
       "      <td>카페디퍼</td>\n",
       "      <td>기타</td>\n",
       "      <td>204776.5483</td>\n",
       "      <td>444677.6430</td>\n",
       "    </tr>\n",
       "  </tbody>\n",
       "</table>\n",
       "</div>"
      ],
      "text/plain": [
       "                                 도로명주소        사업장명 업태구분명      좌표정보(X)  \\\n",
       "0                                  NaN        일식동경    일식          NaN   \n",
       "1             서울특별시 종로구 삼일대로 382 (관철동)          상해    분식  198867.7026   \n",
       "2      서울특별시 관악구 신림로59길 15-13 4층 (신림동)          미쿠    일식  193687.3482   \n",
       "3        서울특별시 구로구 구로동로22길 21 1층 (구로동)  여름엔빙수겨울엔떡국    한식  189814.3059   \n",
       "4  서울특별시 강남구 삼성로85길 33 1층 102-2호 (대치동)        카페디퍼    기타  204776.5483   \n",
       "\n",
       "       좌표정보(Y)  \n",
       "0          NaN  \n",
       "1  451824.2811  \n",
       "2  442284.1640  \n",
       "3  443046.2399  \n",
       "4  444677.6430  "
      ]
     },
     "execution_count": 3,
     "metadata": {},
     "output_type": "execute_result"
    }
   ],
   "source": [
    "df = df[['도로명주소' , '사업장명', '업태구분명', '좌표정보(X)', '좌표정보(Y)']]\n",
    "df.head()"
   ]
  },
  {
   "cell_type": "code",
   "execution_count": 4,
   "id": "f9deb7a9",
   "metadata": {},
   "outputs": [
    {
     "data": {
      "text/plain": [
       "도로명주소      1698\n",
       "사업장명          1\n",
       "업태구분명        11\n",
       "좌표정보(X)    1655\n",
       "좌표정보(Y)    1655\n",
       "dtype: int64"
      ]
     },
     "execution_count": 4,
     "metadata": {},
     "output_type": "execute_result"
    }
   ],
   "source": [
    "df.isna().sum()"
   ]
  },
  {
   "cell_type": "code",
   "execution_count": 5,
   "id": "09e616bc",
   "metadata": {
    "id": "09e616bc",
    "outputId": "c18db353-f0a3-4854-dbe1-26e1e81f76da",
    "scrolled": true
   },
   "outputs": [
    {
     "data": {
      "text/html": [
       "<div>\n",
       "<style scoped>\n",
       "    .dataframe tbody tr th:only-of-type {\n",
       "        vertical-align: middle;\n",
       "    }\n",
       "\n",
       "    .dataframe tbody tr th {\n",
       "        vertical-align: top;\n",
       "    }\n",
       "\n",
       "    .dataframe thead th {\n",
       "        text-align: right;\n",
       "    }\n",
       "</style>\n",
       "<table border=\"1\" class=\"dataframe\">\n",
       "  <thead>\n",
       "    <tr style=\"text-align: right;\">\n",
       "      <th></th>\n",
       "      <th>도로명주소</th>\n",
       "      <th>사업장명</th>\n",
       "      <th>업태구분명</th>\n",
       "      <th>좌표정보(X)</th>\n",
       "      <th>좌표정보(Y)</th>\n",
       "    </tr>\n",
       "  </thead>\n",
       "  <tbody>\n",
       "    <tr>\n",
       "      <th>1</th>\n",
       "      <td>서울특별시 종로구 삼일대로 382 (관철동)</td>\n",
       "      <td>상해</td>\n",
       "      <td>분식</td>\n",
       "      <td>198867.7026</td>\n",
       "      <td>451824.2811</td>\n",
       "    </tr>\n",
       "    <tr>\n",
       "      <th>2</th>\n",
       "      <td>서울특별시 관악구 신림로59길 15-13 4층 (신림동)</td>\n",
       "      <td>미쿠</td>\n",
       "      <td>일식</td>\n",
       "      <td>193687.3482</td>\n",
       "      <td>442284.1640</td>\n",
       "    </tr>\n",
       "    <tr>\n",
       "      <th>3</th>\n",
       "      <td>서울특별시 구로구 구로동로22길 21 1층 (구로동)</td>\n",
       "      <td>여름엔빙수겨울엔떡국</td>\n",
       "      <td>한식</td>\n",
       "      <td>189814.3059</td>\n",
       "      <td>443046.2399</td>\n",
       "    </tr>\n",
       "    <tr>\n",
       "      <th>4</th>\n",
       "      <td>서울특별시 강남구 삼성로85길 33 1층 102-2호 (대치동)</td>\n",
       "      <td>카페디퍼</td>\n",
       "      <td>기타</td>\n",
       "      <td>204776.5483</td>\n",
       "      <td>444677.6430</td>\n",
       "    </tr>\n",
       "    <tr>\n",
       "      <th>5</th>\n",
       "      <td>서울특별시 동대문구 난계로30길 28-7 1층 (신설동)</td>\n",
       "      <td>메이크데이(MakeDay)</td>\n",
       "      <td>기타</td>\n",
       "      <td>202114.2284</td>\n",
       "      <td>452392.0938</td>\n",
       "    </tr>\n",
       "  </tbody>\n",
       "</table>\n",
       "</div>"
      ],
      "text/plain": [
       "                                 도로명주소            사업장명 업태구분명      좌표정보(X)  \\\n",
       "1             서울특별시 종로구 삼일대로 382 (관철동)              상해    분식  198867.7026   \n",
       "2      서울특별시 관악구 신림로59길 15-13 4층 (신림동)              미쿠    일식  193687.3482   \n",
       "3        서울특별시 구로구 구로동로22길 21 1층 (구로동)      여름엔빙수겨울엔떡국    한식  189814.3059   \n",
       "4  서울특별시 강남구 삼성로85길 33 1층 102-2호 (대치동)            카페디퍼    기타  204776.5483   \n",
       "5      서울특별시 동대문구 난계로30길 28-7 1층 (신설동)  메이크데이(MakeDay)    기타  202114.2284   \n",
       "\n",
       "       좌표정보(Y)  \n",
       "1  451824.2811  \n",
       "2  442284.1640  \n",
       "3  443046.2399  \n",
       "4  444677.6430  \n",
       "5  452392.0938  "
      ]
     },
     "execution_count": 5,
     "metadata": {},
     "output_type": "execute_result"
    }
   ],
   "source": [
    "df = df.dropna()\n",
    "df.head()"
   ]
  },
  {
   "cell_type": "code",
   "execution_count": 6,
   "id": "53cee9df",
   "metadata": {
    "id": "53cee9df",
    "outputId": "0104909f-f3b4-437c-8439-5b1cdc471ec1"
   },
   "outputs": [
    {
     "data": {
      "text/plain": [
       "감성주점                223\n",
       "경양식                9228\n",
       "기타                17812\n",
       "김밥(도시락)             583\n",
       "까페                 2092\n",
       "냉면집                 103\n",
       "라이브카페               190\n",
       "복어취급                 51\n",
       "분식                 9048\n",
       "뷔페식                 457\n",
       "식육(숯불구이)            882\n",
       "외국음식전문점(인도태국등)     1370\n",
       "이동조리                  7\n",
       "일식                 6118\n",
       "전통찻집                 51\n",
       "정종/대포집/소주방         2229\n",
       "중국식                4531\n",
       "출장조리                100\n",
       "커피숍                   3\n",
       "키즈카페                 66\n",
       "탕류(보신용)             143\n",
       "통닭(치킨)             2530\n",
       "패밀리레스트랑             171\n",
       "패스트푸드               705\n",
       "한식                52145\n",
       "호프/통닭             10353\n",
       "회집                  276\n",
       "횟집                  295\n",
       "Name: 업태구분명, dtype: int64"
      ]
     },
     "execution_count": 6,
     "metadata": {},
     "output_type": "execute_result"
    }
   ],
   "source": [
    "df[\"업태구분명\"].value_counts().sort_index()"
   ]
  },
  {
   "cell_type": "code",
   "execution_count": 7,
   "id": "92609a82",
   "metadata": {},
   "outputs": [
    {
     "data": {
      "text/html": [
       "<div>\n",
       "<style scoped>\n",
       "    .dataframe tbody tr th:only-of-type {\n",
       "        vertical-align: middle;\n",
       "    }\n",
       "\n",
       "    .dataframe tbody tr th {\n",
       "        vertical-align: top;\n",
       "    }\n",
       "\n",
       "    .dataframe thead th {\n",
       "        text-align: right;\n",
       "    }\n",
       "</style>\n",
       "<table border=\"1\" class=\"dataframe\">\n",
       "  <thead>\n",
       "    <tr style=\"text-align: right;\">\n",
       "      <th></th>\n",
       "      <th>도로명주소</th>\n",
       "      <th>사업장명</th>\n",
       "      <th>업태구분명</th>\n",
       "      <th>좌표정보(X)</th>\n",
       "      <th>좌표정보(Y)</th>\n",
       "    </tr>\n",
       "  </thead>\n",
       "  <tbody>\n",
       "    <tr>\n",
       "      <th>1</th>\n",
       "      <td>서울특별시 종로구 삼일대로 382 (관철동)</td>\n",
       "      <td>상해</td>\n",
       "      <td>분식</td>\n",
       "      <td>198867.7026</td>\n",
       "      <td>451824.2811</td>\n",
       "    </tr>\n",
       "    <tr>\n",
       "      <th>2</th>\n",
       "      <td>서울특별시 관악구 신림로59길 15-13 4층 (신림동)</td>\n",
       "      <td>미쿠</td>\n",
       "      <td>일식</td>\n",
       "      <td>193687.3482</td>\n",
       "      <td>442284.1640</td>\n",
       "    </tr>\n",
       "    <tr>\n",
       "      <th>3</th>\n",
       "      <td>서울특별시 구로구 구로동로22길 21 1층 (구로동)</td>\n",
       "      <td>여름엔빙수겨울엔떡국</td>\n",
       "      <td>한식</td>\n",
       "      <td>189814.3059</td>\n",
       "      <td>443046.2399</td>\n",
       "    </tr>\n",
       "    <tr>\n",
       "      <th>4</th>\n",
       "      <td>서울특별시 강남구 삼성로85길 33 1층 102-2호 (대치동)</td>\n",
       "      <td>카페디퍼</td>\n",
       "      <td>카페</td>\n",
       "      <td>204776.5483</td>\n",
       "      <td>444677.6430</td>\n",
       "    </tr>\n",
       "    <tr>\n",
       "      <th>5</th>\n",
       "      <td>서울특별시 동대문구 난계로30길 28-7 1층 (신설동)</td>\n",
       "      <td>메이크데이(MakeDay)</td>\n",
       "      <td>카페</td>\n",
       "      <td>202114.2284</td>\n",
       "      <td>452392.0938</td>\n",
       "    </tr>\n",
       "  </tbody>\n",
       "</table>\n",
       "</div>"
      ],
      "text/plain": [
       "                                 도로명주소            사업장명 업태구분명      좌표정보(X)  \\\n",
       "1             서울특별시 종로구 삼일대로 382 (관철동)              상해    분식  198867.7026   \n",
       "2      서울특별시 관악구 신림로59길 15-13 4층 (신림동)              미쿠    일식  193687.3482   \n",
       "3        서울특별시 구로구 구로동로22길 21 1층 (구로동)      여름엔빙수겨울엔떡국    한식  189814.3059   \n",
       "4  서울특별시 강남구 삼성로85길 33 1층 102-2호 (대치동)            카페디퍼    카페  204776.5483   \n",
       "5      서울특별시 동대문구 난계로30길 28-7 1층 (신설동)  메이크데이(MakeDay)    카페  202114.2284   \n",
       "\n",
       "       좌표정보(Y)  \n",
       "1  451824.2811  \n",
       "2  442284.1640  \n",
       "3  443046.2399  \n",
       "4  444677.6430  \n",
       "5  452392.0938  "
      ]
     },
     "execution_count": 7,
     "metadata": {},
     "output_type": "execute_result"
    }
   ],
   "source": [
    "separated_dict = {'경양식':'양식','뷔페식':'양식','패밀리레스트랑':'양식',\n",
    "'회집':'해산물','횟집':'해산물','복어취급':'해산물',\n",
    "'분식':'분식','냉면집':'분식','김밥(도시락)':'분식',\n",
    "'통닭(치킨)':'치킨','호프/통닭':'치킨',\n",
    "'한식':'한식','탕류(보신용)':'한식',\n",
    "'커피숍':'카페','까페':'카페','키즈카페':'카페','라이브카페':'카페','전통찻집':'카페','기타':'카페',\n",
    "'정종/대포집/소주방':'술집','감성주점':'술집',\n",
    "'식육(숯불구이)':'고기',\n",
    "'중국식':'중식',\n",
    "'외국음식전문점(인도태국등)':'외국음식',\n",
    "'출장조리':None, '이동조리':None}\n",
    "\n",
    "for i, j in separated_dict.items():\n",
    "    df = df.replace(i, j)\n",
    "\n",
    "df = df.dropna()\n",
    "df.head()"
   ]
  },
  {
   "cell_type": "code",
   "execution_count": 8,
   "id": "10779946",
   "metadata": {},
   "outputs": [
    {
     "data": {
      "text/plain": [
       "{'강남구',\n",
       " '강동구',\n",
       " '강북구',\n",
       " '강서구',\n",
       " '관악구',\n",
       " '광진구',\n",
       " '구로구',\n",
       " '금천구',\n",
       " '노원구',\n",
       " '도봉구',\n",
       " '동대문구',\n",
       " '동작구',\n",
       " '마포구',\n",
       " '서대문구',\n",
       " '서초구',\n",
       " '성동구',\n",
       " '성북구',\n",
       " '송파구',\n",
       " '양천구',\n",
       " '영등포구',\n",
       " '용산구',\n",
       " '은평구',\n",
       " '종로구',\n",
       " '중구',\n",
       " '중랑구'}"
      ]
     },
     "execution_count": 8,
     "metadata": {},
     "output_type": "execute_result"
    }
   ],
   "source": [
    "gu_list = [i.split()[1] for i in df['도로명주소']]\n",
    "set(gu_list)"
   ]
  },
  {
   "cell_type": "code",
   "execution_count": 9,
   "id": "b624efa3",
   "metadata": {},
   "outputs": [
    {
     "data": {
      "text/html": [
       "<div>\n",
       "<style scoped>\n",
       "    .dataframe tbody tr th:only-of-type {\n",
       "        vertical-align: middle;\n",
       "    }\n",
       "\n",
       "    .dataframe tbody tr th {\n",
       "        vertical-align: top;\n",
       "    }\n",
       "\n",
       "    .dataframe thead th {\n",
       "        text-align: right;\n",
       "    }\n",
       "</style>\n",
       "<table border=\"1\" class=\"dataframe\">\n",
       "  <thead>\n",
       "    <tr style=\"text-align: right;\">\n",
       "      <th></th>\n",
       "      <th>도로명주소</th>\n",
       "      <th>구</th>\n",
       "      <th>사업장명</th>\n",
       "      <th>업태구분명</th>\n",
       "      <th>좌표정보(X)</th>\n",
       "      <th>좌표정보(Y)</th>\n",
       "    </tr>\n",
       "  </thead>\n",
       "  <tbody>\n",
       "    <tr>\n",
       "      <th>1</th>\n",
       "      <td>서울특별시 종로구 삼일대로 382 (관철동)</td>\n",
       "      <td>종로구</td>\n",
       "      <td>상해</td>\n",
       "      <td>분식</td>\n",
       "      <td>198867.7026</td>\n",
       "      <td>451824.2811</td>\n",
       "    </tr>\n",
       "    <tr>\n",
       "      <th>2</th>\n",
       "      <td>서울특별시 관악구 신림로59길 15-13 4층 (신림동)</td>\n",
       "      <td>관악구</td>\n",
       "      <td>미쿠</td>\n",
       "      <td>일식</td>\n",
       "      <td>193687.3482</td>\n",
       "      <td>442284.1640</td>\n",
       "    </tr>\n",
       "    <tr>\n",
       "      <th>3</th>\n",
       "      <td>서울특별시 구로구 구로동로22길 21 1층 (구로동)</td>\n",
       "      <td>구로구</td>\n",
       "      <td>여름엔빙수겨울엔떡국</td>\n",
       "      <td>한식</td>\n",
       "      <td>189814.3059</td>\n",
       "      <td>443046.2399</td>\n",
       "    </tr>\n",
       "    <tr>\n",
       "      <th>4</th>\n",
       "      <td>서울특별시 강남구 삼성로85길 33 1층 102-2호 (대치동)</td>\n",
       "      <td>강남구</td>\n",
       "      <td>카페디퍼</td>\n",
       "      <td>카페</td>\n",
       "      <td>204776.5483</td>\n",
       "      <td>444677.6430</td>\n",
       "    </tr>\n",
       "    <tr>\n",
       "      <th>5</th>\n",
       "      <td>서울특별시 동대문구 난계로30길 28-7 1층 (신설동)</td>\n",
       "      <td>동대문구</td>\n",
       "      <td>메이크데이(MakeDay)</td>\n",
       "      <td>카페</td>\n",
       "      <td>202114.2284</td>\n",
       "      <td>452392.0938</td>\n",
       "    </tr>\n",
       "  </tbody>\n",
       "</table>\n",
       "</div>"
      ],
      "text/plain": [
       "                                 도로명주소     구            사업장명 업태구분명  \\\n",
       "1             서울특별시 종로구 삼일대로 382 (관철동)   종로구              상해    분식   \n",
       "2      서울특별시 관악구 신림로59길 15-13 4층 (신림동)   관악구              미쿠    일식   \n",
       "3        서울특별시 구로구 구로동로22길 21 1층 (구로동)   구로구      여름엔빙수겨울엔떡국    한식   \n",
       "4  서울특별시 강남구 삼성로85길 33 1층 102-2호 (대치동)   강남구            카페디퍼    카페   \n",
       "5      서울특별시 동대문구 난계로30길 28-7 1층 (신설동)  동대문구  메이크데이(MakeDay)    카페   \n",
       "\n",
       "       좌표정보(X)      좌표정보(Y)  \n",
       "1  198867.7026  451824.2811  \n",
       "2  193687.3482  442284.1640  \n",
       "3  189814.3059  443046.2399  \n",
       "4  204776.5483  444677.6430  \n",
       "5  202114.2284  452392.0938  "
      ]
     },
     "execution_count": 9,
     "metadata": {},
     "output_type": "execute_result"
    }
   ],
   "source": [
    "df.insert(1,'구',gu_list)\n",
    "df.head()"
   ]
  },
  {
   "cell_type": "code",
   "execution_count": 271,
   "id": "57b53948",
   "metadata": {},
   "outputs": [
    {
     "data": {
      "image/png": "[encoded data removed]",
      "text/plain": [
       "<Figure size 1296x360 with 1 Axes>"
      ]
     },
     "metadata": {
      "needs_background": "light"
     },
     "output_type": "display_data"
    }
   ],
   "source": [
    "plt.figure(figsize=(18,5))\n",
    "plt.rcParams['font.family'] = 'Malgun Gothic'\n",
    "sns.countplot(df['구'])\n",
    "plt.show()"
   ]
  },
  {
   "cell_type": "code",
   "execution_count": 272,
   "id": "3ce41997",
   "metadata": {},
   "outputs": [
    {
     "data": {
      "image/png": "[encoded data removed]",
      "text/plain": [
       "<Figure size 1080x360 with 1 Axes>"
      ]
     },
     "metadata": {
      "needs_background": "light"
     },
     "output_type": "display_data"
    }
   ],
   "source": [
    "plt.figure(figsize=(15,5))\n",
    "plt.rcParams['font.family'] = 'Malgun Gothic'\n",
    "sns.countplot(df['업태구분명'])\n",
    "plt.show()"
   ]
  },
  {
   "cell_type": "code",
   "execution_count": 19,
   "id": "d077b030",
   "metadata": {},
   "outputs": [
    {
     "ename": "KeyError",
     "evalue": "\"None of [Index(['서울특별시 종로구 삼일대로 382 (관철동)', '서울특별시 관악구 신림로59길 15-13 4층 (신림동)',\\n       '서울특별시 구로구 구로동로22길 21 1층 (구로동)', '서울특별시 강남구 삼성로85길 33 1층 102-2호 (대치동)',\\n       '서울특별시 동대문구 난계로30길 28-7 1층 (신설동)',\\n       '서울특별시 은평구 응암로21가길 9-11 1층 102호 (응암동)',\\n       '서울특별시 강남구 논현로150길 13 혜창빌딩 지상1층 (논현동)', '서울특별시 강북구 수유로12길 60 1층 (수유동)',\\n       '서울특별시 영등포구 의사당대로1길 25 하남빌딩 2층 202호 203(일부)호 (여의도동)',\\n       '서울특별시 강남구 테헤란로52길 21 역삼동 벤처빌딩 지하1층 4호 (역삼동)',\\n       ...\\n       '서울특별시 노원구 덕릉로83길 22 1층 (중계동)', '서울특별시 성북구 성북로5길 6 1층 (성북동1가)',\\n       '서울특별시 송파구 동남로18길 23 2층 (가락동)', '서울특별시 강남구 강남대로124길 39 지하1층 101호 (논현동)',\\n       '서울특별시 성동구 살곶이길 346-1 1층 (행당동)', '서울특별시 동작구 대림로 55 1층 (신대방동)',\\n       '서울특별시 중구 다산로 137 (신당동 1층)', '서울특별시 광진구 동일로24길 28 1층 (화양동)',\\n       '서울특별시 강동구 상암로 50 (천호동)',\\n       '서울특별시 종로구 종로 19 (종로1가(르메이에르타운 지상1층 110-2호))'],\\n      dtype='object', length=121655)] are in the [columns]\"",
     "output_type": "error",
     "traceback": [
      "\u001b[1;31m---------------------------------------------------------------------------\u001b[0m",
      "\u001b[1;31mKeyError\u001b[0m                                  Traceback (most recent call last)",
      "\u001b[1;32mc:\\git\\Analyzing_Unstructured_Data\\비정형 데이터 전처리.ipynb 셀 12\u001b[0m in \u001b[0;36m<cell line: 2>\u001b[1;34m()\u001b[0m\n\u001b[0;32m      <a href='vscode-notebook-cell:/c%3A/git/Analyzing_Unstructured_Data/%EB%B9%84%EC%A0%95%ED%98%95%20%EB%8D%B0%EC%9D%B4%ED%84%B0%20%EC%A0%84%EC%B2%98%EB%A6%AC.ipynb#X21sZmlsZQ%3D%3D?line=0'>1</a>\u001b[0m \u001b[39m\"\u001b[39m\u001b[39mdf[df[\u001b[39m\u001b[39m'\u001b[39m\u001b[39m구\u001b[39m\u001b[39m'\u001b[39m\u001b[39m] == gu][df[\u001b[39m\u001b[39m'\u001b[39m\u001b[39m도로명주소\u001b[39m\u001b[39m'\u001b[39m\u001b[39m]][df[\u001b[39m\u001b[39m'\u001b[39m\u001b[39m업태구분명\u001b[39m\u001b[39m'\u001b[39m\u001b[39m] == food][\u001b[39m\u001b[39m'\u001b[39m\u001b[39m사업장명\u001b[39m\u001b[39m'\u001b[39m\u001b[39m]\u001b[39m\u001b[39m\"\u001b[39m\n\u001b[1;32m----> <a href='vscode-notebook-cell:/c%3A/git/Analyzing_Unstructured_Data/%EB%B9%84%EC%A0%95%ED%98%95%20%EB%8D%B0%EC%9D%B4%ED%84%B0%20%EC%A0%84%EC%B2%98%EB%A6%AC.ipynb#X21sZmlsZQ%3D%3D?line=1'>2</a>\u001b[0m df[df[\u001b[39m'\u001b[39;49m\u001b[39m도로명주소\u001b[39;49m\u001b[39m'\u001b[39;49m]]\n",
      "File \u001b[1;32mc:\\ProgramData\\Anaconda3\\lib\\site-packages\\pandas\\core\\frame.py:3511\u001b[0m, in \u001b[0;36mDataFrame.__getitem__\u001b[1;34m(self, key)\u001b[0m\n\u001b[0;32m   3509\u001b[0m     \u001b[39mif\u001b[39;00m is_iterator(key):\n\u001b[0;32m   3510\u001b[0m         key \u001b[39m=\u001b[39m \u001b[39mlist\u001b[39m(key)\n\u001b[1;32m-> 3511\u001b[0m     indexer \u001b[39m=\u001b[39m \u001b[39mself\u001b[39;49m\u001b[39m.\u001b[39;49mcolumns\u001b[39m.\u001b[39;49m_get_indexer_strict(key, \u001b[39m\"\u001b[39;49m\u001b[39mcolumns\u001b[39;49m\u001b[39m\"\u001b[39;49m)[\u001b[39m1\u001b[39m]\n\u001b[0;32m   3513\u001b[0m \u001b[39m# take() does not accept boolean indexers\u001b[39;00m\n\u001b[0;32m   3514\u001b[0m \u001b[39mif\u001b[39;00m \u001b[39mgetattr\u001b[39m(indexer, \u001b[39m\"\u001b[39m\u001b[39mdtype\u001b[39m\u001b[39m\"\u001b[39m, \u001b[39mNone\u001b[39;00m) \u001b[39m==\u001b[39m \u001b[39mbool\u001b[39m:\n",
      "File \u001b[1;32mc:\\ProgramData\\Anaconda3\\lib\\site-packages\\pandas\\core\\indexes\\base.py:5782\u001b[0m, in \u001b[0;36mIndex._get_indexer_strict\u001b[1;34m(self, key, axis_name)\u001b[0m\n\u001b[0;32m   5779\u001b[0m \u001b[39melse\u001b[39;00m:\n\u001b[0;32m   5780\u001b[0m     keyarr, indexer, new_indexer \u001b[39m=\u001b[39m \u001b[39mself\u001b[39m\u001b[39m.\u001b[39m_reindex_non_unique(keyarr)\n\u001b[1;32m-> 5782\u001b[0m \u001b[39mself\u001b[39;49m\u001b[39m.\u001b[39;49m_raise_if_missing(keyarr, indexer, axis_name)\n\u001b[0;32m   5784\u001b[0m keyarr \u001b[39m=\u001b[39m \u001b[39mself\u001b[39m\u001b[39m.\u001b[39mtake(indexer)\n\u001b[0;32m   5785\u001b[0m \u001b[39mif\u001b[39;00m \u001b[39misinstance\u001b[39m(key, Index):\n\u001b[0;32m   5786\u001b[0m     \u001b[39m# GH 42790 - Preserve name from an Index\u001b[39;00m\n",
      "File \u001b[1;32mc:\\ProgramData\\Anaconda3\\lib\\site-packages\\pandas\\core\\indexes\\base.py:5842\u001b[0m, in \u001b[0;36mIndex._raise_if_missing\u001b[1;34m(self, key, indexer, axis_name)\u001b[0m\n\u001b[0;32m   5840\u001b[0m     \u001b[39mif\u001b[39;00m use_interval_msg:\n\u001b[0;32m   5841\u001b[0m         key \u001b[39m=\u001b[39m \u001b[39mlist\u001b[39m(key)\n\u001b[1;32m-> 5842\u001b[0m     \u001b[39mraise\u001b[39;00m \u001b[39mKeyError\u001b[39;00m(\u001b[39mf\u001b[39m\u001b[39m\"\u001b[39m\u001b[39mNone of [\u001b[39m\u001b[39m{\u001b[39;00mkey\u001b[39m}\u001b[39;00m\u001b[39m] are in the [\u001b[39m\u001b[39m{\u001b[39;00maxis_name\u001b[39m}\u001b[39;00m\u001b[39m]\u001b[39m\u001b[39m\"\u001b[39m)\n\u001b[0;32m   5844\u001b[0m not_found \u001b[39m=\u001b[39m \u001b[39mlist\u001b[39m(ensure_index(key)[missing_mask\u001b[39m.\u001b[39mnonzero()[\u001b[39m0\u001b[39m]]\u001b[39m.\u001b[39munique())\n\u001b[0;32m   5845\u001b[0m \u001b[39mraise\u001b[39;00m \u001b[39mKeyError\u001b[39;00m(\u001b[39mf\u001b[39m\u001b[39m\"\u001b[39m\u001b[39m{\u001b[39;00mnot_found\u001b[39m}\u001b[39;00m\u001b[39m not in index\u001b[39m\u001b[39m\"\u001b[39m)\n",
      "\u001b[1;31mKeyError\u001b[0m: \"None of [Index(['서울특별시 종로구 삼일대로 382 (관철동)', '서울특별시 관악구 신림로59길 15-13 4층 (신림동)',\\n       '서울특별시 구로구 구로동로22길 21 1층 (구로동)', '서울특별시 강남구 삼성로85길 33 1층 102-2호 (대치동)',\\n       '서울특별시 동대문구 난계로30길 28-7 1층 (신설동)',\\n       '서울특별시 은평구 응암로21가길 9-11 1층 102호 (응암동)',\\n       '서울특별시 강남구 논현로150길 13 혜창빌딩 지상1층 (논현동)', '서울특별시 강북구 수유로12길 60 1층 (수유동)',\\n       '서울특별시 영등포구 의사당대로1길 25 하남빌딩 2층 202호 203(일부)호 (여의도동)',\\n       '서울특별시 강남구 테헤란로52길 21 역삼동 벤처빌딩 지하1층 4호 (역삼동)',\\n       ...\\n       '서울특별시 노원구 덕릉로83길 22 1층 (중계동)', '서울특별시 성북구 성북로5길 6 1층 (성북동1가)',\\n       '서울특별시 송파구 동남로18길 23 2층 (가락동)', '서울특별시 강남구 강남대로124길 39 지하1층 101호 (논현동)',\\n       '서울특별시 성동구 살곶이길 346-1 1층 (행당동)', '서울특별시 동작구 대림로 55 1층 (신대방동)',\\n       '서울특별시 중구 다산로 137 (신당동 1층)', '서울특별시 광진구 동일로24길 28 1층 (화양동)',\\n       '서울특별시 강동구 상암로 50 (천호동)',\\n       '서울특별시 종로구 종로 19 (종로1가(르메이에르타운 지상1층 110-2호))'],\\n      dtype='object', length=121655)] are in the [columns]\""
     ]
    }
   ],
   "source": [
    "\"df[df['구'] == gu][df['도로명주소']][df['업태구분명'] == food]['사업장명']\"\n",
    "df[df['도로명주소']]"
   ]
  },
  {
   "cell_type": "code",
   "execution_count": 16,
   "id": "51911caa",
   "metadata": {},
   "outputs": [
    {
     "name": "stdout",
     "output_type": "stream",
     "text": [
      "자치구 목록\n",
      "종로구, 관악구, 구로구, 강남구, 동대문구, 은평구, 강북구, 영등포구, 중랑구, 서초구, 강서구, 강동구, 성동구, 노원구, 중구, 성북구, 도봉구, 용산구, 광진구, 송파구, 마포구, 금천구, 동작구, 양천구, 서대문구, 원하시는 자치구를 입력해주세요:\n",
      "음식종류 목록: 상관없음, 분식, 일식, 한식, 카페, 양식, 치킨, 외국음식, 중식, 고기, 해산물, 술집, 패스트푸드, \n",
      "원하시는 음식종류를 입력해주세요:\n"
     ]
    },
    {
     "ename": "KeyError",
     "evalue": "\"None of [Index(['서울특별시 종로구 삼일대로 382 (관철동)', '서울특별시 관악구 신림로59길 15-13 4층 (신림동)',\\n       '서울특별시 구로구 구로동로22길 21 1층 (구로동)', '서울특별시 강남구 삼성로85길 33 1층 102-2호 (대치동)',\\n       '서울특별시 동대문구 난계로30길 28-7 1층 (신설동)',\\n       '서울특별시 은평구 응암로21가길 9-11 1층 102호 (응암동)',\\n       '서울특별시 강남구 논현로150길 13 혜창빌딩 지상1층 (논현동)', '서울특별시 강북구 수유로12길 60 1층 (수유동)',\\n       '서울특별시 영등포구 의사당대로1길 25 하남빌딩 2층 202호 203(일부)호 (여의도동)',\\n       '서울특별시 강남구 테헤란로52길 21 역삼동 벤처빌딩 지하1층 4호 (역삼동)',\\n       ...\\n       '서울특별시 노원구 덕릉로83길 22 1층 (중계동)', '서울특별시 성북구 성북로5길 6 1층 (성북동1가)',\\n       '서울특별시 송파구 동남로18길 23 2층 (가락동)', '서울특별시 강남구 강남대로124길 39 지하1층 101호 (논현동)',\\n       '서울특별시 성동구 살곶이길 346-1 1층 (행당동)', '서울특별시 동작구 대림로 55 1층 (신대방동)',\\n       '서울특별시 중구 다산로 137 (신당동 1층)', '서울특별시 광진구 동일로24길 28 1층 (화양동)',\\n       '서울특별시 강동구 상암로 50 (천호동)',\\n       '서울특별시 종로구 종로 19 (종로1가(르메이에르타운 지상1층 110-2호))'],\\n      dtype='object', length=121655)] are in the [columns]\"",
     "output_type": "error",
     "traceback": [
      "\u001b[1;31m---------------------------------------------------------------------------\u001b[0m",
      "\u001b[1;31mKeyError\u001b[0m                                  Traceback (most recent call last)",
      "\u001b[1;32mc:\\git\\Analyzing_Unstructured_Data\\비정형 데이터 전처리.ipynb 셀 12\u001b[0m in \u001b[0;36m<cell line: 16>\u001b[1;34m()\u001b[0m\n\u001b[0;32m     <a href='vscode-notebook-cell:/c%3A/git/Analyzing_Unstructured_Data/%EB%B9%84%EC%A0%95%ED%98%95%20%EB%8D%B0%EC%9D%B4%ED%84%B0%20%EC%A0%84%EC%B2%98%EB%A6%AC.ipynb#X14sZmlsZQ%3D%3D?line=16'>17</a>\u001b[0m     food_list \u001b[39m=\u001b[39m df[df[\u001b[39m'\u001b[39m\u001b[39m구\u001b[39m\u001b[39m'\u001b[39m] \u001b[39m==\u001b[39m gu][df[\u001b[39m'\u001b[39m\u001b[39m도로명주소\u001b[39m\u001b[39m'\u001b[39m]][\u001b[39m'\u001b[39m\u001b[39m사업장명\u001b[39m\u001b[39m'\u001b[39m]\n\u001b[0;32m     <a href='vscode-notebook-cell:/c%3A/git/Analyzing_Unstructured_Data/%EB%B9%84%EC%A0%95%ED%98%95%20%EB%8D%B0%EC%9D%B4%ED%84%B0%20%EC%A0%84%EC%B2%98%EB%A6%AC.ipynb#X14sZmlsZQ%3D%3D?line=17'>18</a>\u001b[0m \u001b[39melse\u001b[39;00m:\n\u001b[1;32m---> <a href='vscode-notebook-cell:/c%3A/git/Analyzing_Unstructured_Data/%EB%B9%84%EC%A0%95%ED%98%95%20%EB%8D%B0%EC%9D%B4%ED%84%B0%20%EC%A0%84%EC%B2%98%EB%A6%AC.ipynb#X14sZmlsZQ%3D%3D?line=18'>19</a>\u001b[0m     food_list \u001b[39m=\u001b[39m df[df[\u001b[39m'\u001b[39;49m\u001b[39m구\u001b[39;49m\u001b[39m'\u001b[39;49m] \u001b[39m==\u001b[39;49m gu][df[\u001b[39m'\u001b[39;49m\u001b[39m도로명주소\u001b[39;49m\u001b[39m'\u001b[39;49m]][df[\u001b[39m'\u001b[39m\u001b[39m업태구분명\u001b[39m\u001b[39m'\u001b[39m] \u001b[39m==\u001b[39m food][\u001b[39m'\u001b[39m\u001b[39m사업장명\u001b[39m\u001b[39m'\u001b[39m]\n\u001b[0;32m     <a href='vscode-notebook-cell:/c%3A/git/Analyzing_Unstructured_Data/%EB%B9%84%EC%A0%95%ED%98%95%20%EB%8D%B0%EC%9D%B4%ED%84%B0%20%EC%A0%84%EC%B2%98%EB%A6%AC.ipynb#X14sZmlsZQ%3D%3D?line=20'>21</a>\u001b[0m \u001b[39m\"\"\" Keyword = pd.DataFrame([gu+' '+i for i in food_list])\u001b[39;00m\n\u001b[0;32m     <a href='vscode-notebook-cell:/c%3A/git/Analyzing_Unstructured_Data/%EB%B9%84%EC%A0%95%ED%98%95%20%EB%8D%B0%EC%9D%B4%ED%84%B0%20%EC%A0%84%EC%B2%98%EB%A6%AC.ipynb#X14sZmlsZQ%3D%3D?line=21'>22</a>\u001b[0m \u001b[39mKeyword \"\"\"\u001b[39;00m\n\u001b[0;32m     <a href='vscode-notebook-cell:/c%3A/git/Analyzing_Unstructured_Data/%EB%B9%84%EC%A0%95%ED%98%95%20%EB%8D%B0%EC%9D%B4%ED%84%B0%20%EC%A0%84%EC%B2%98%EB%A6%AC.ipynb#X14sZmlsZQ%3D%3D?line=22'>23</a>\u001b[0m food_list\n",
      "File \u001b[1;32mc:\\ProgramData\\Anaconda3\\lib\\site-packages\\pandas\\core\\frame.py:3511\u001b[0m, in \u001b[0;36mDataFrame.__getitem__\u001b[1;34m(self, key)\u001b[0m\n\u001b[0;32m   3509\u001b[0m     \u001b[39mif\u001b[39;00m is_iterator(key):\n\u001b[0;32m   3510\u001b[0m         key \u001b[39m=\u001b[39m \u001b[39mlist\u001b[39m(key)\n\u001b[1;32m-> 3511\u001b[0m     indexer \u001b[39m=\u001b[39m \u001b[39mself\u001b[39;49m\u001b[39m.\u001b[39;49mcolumns\u001b[39m.\u001b[39;49m_get_indexer_strict(key, \u001b[39m\"\u001b[39;49m\u001b[39mcolumns\u001b[39;49m\u001b[39m\"\u001b[39;49m)[\u001b[39m1\u001b[39m]\n\u001b[0;32m   3513\u001b[0m \u001b[39m# take() does not accept boolean indexers\u001b[39;00m\n\u001b[0;32m   3514\u001b[0m \u001b[39mif\u001b[39;00m \u001b[39mgetattr\u001b[39m(indexer, \u001b[39m\"\u001b[39m\u001b[39mdtype\u001b[39m\u001b[39m\"\u001b[39m, \u001b[39mNone\u001b[39;00m) \u001b[39m==\u001b[39m \u001b[39mbool\u001b[39m:\n",
      "File \u001b[1;32mc:\\ProgramData\\Anaconda3\\lib\\site-packages\\pandas\\core\\indexes\\base.py:5782\u001b[0m, in \u001b[0;36mIndex._get_indexer_strict\u001b[1;34m(self, key, axis_name)\u001b[0m\n\u001b[0;32m   5779\u001b[0m \u001b[39melse\u001b[39;00m:\n\u001b[0;32m   5780\u001b[0m     keyarr, indexer, new_indexer \u001b[39m=\u001b[39m \u001b[39mself\u001b[39m\u001b[39m.\u001b[39m_reindex_non_unique(keyarr)\n\u001b[1;32m-> 5782\u001b[0m \u001b[39mself\u001b[39;49m\u001b[39m.\u001b[39;49m_raise_if_missing(keyarr, indexer, axis_name)\n\u001b[0;32m   5784\u001b[0m keyarr \u001b[39m=\u001b[39m \u001b[39mself\u001b[39m\u001b[39m.\u001b[39mtake(indexer)\n\u001b[0;32m   5785\u001b[0m \u001b[39mif\u001b[39;00m \u001b[39misinstance\u001b[39m(key, Index):\n\u001b[0;32m   5786\u001b[0m     \u001b[39m# GH 42790 - Preserve name from an Index\u001b[39;00m\n",
      "File \u001b[1;32mc:\\ProgramData\\Anaconda3\\lib\\site-packages\\pandas\\core\\indexes\\base.py:5842\u001b[0m, in \u001b[0;36mIndex._raise_if_missing\u001b[1;34m(self, key, indexer, axis_name)\u001b[0m\n\u001b[0;32m   5840\u001b[0m     \u001b[39mif\u001b[39;00m use_interval_msg:\n\u001b[0;32m   5841\u001b[0m         key \u001b[39m=\u001b[39m \u001b[39mlist\u001b[39m(key)\n\u001b[1;32m-> 5842\u001b[0m     \u001b[39mraise\u001b[39;00m \u001b[39mKeyError\u001b[39;00m(\u001b[39mf\u001b[39m\u001b[39m\"\u001b[39m\u001b[39mNone of [\u001b[39m\u001b[39m{\u001b[39;00mkey\u001b[39m}\u001b[39;00m\u001b[39m] are in the [\u001b[39m\u001b[39m{\u001b[39;00maxis_name\u001b[39m}\u001b[39;00m\u001b[39m]\u001b[39m\u001b[39m\"\u001b[39m)\n\u001b[0;32m   5844\u001b[0m not_found \u001b[39m=\u001b[39m \u001b[39mlist\u001b[39m(ensure_index(key)[missing_mask\u001b[39m.\u001b[39mnonzero()[\u001b[39m0\u001b[39m]]\u001b[39m.\u001b[39munique())\n\u001b[0;32m   5845\u001b[0m \u001b[39mraise\u001b[39;00m \u001b[39mKeyError\u001b[39;00m(\u001b[39mf\u001b[39m\u001b[39m\"\u001b[39m\u001b[39m{\u001b[39;00mnot_found\u001b[39m}\u001b[39;00m\u001b[39m not in index\u001b[39m\u001b[39m\"\u001b[39m)\n",
      "\u001b[1;31mKeyError\u001b[0m: \"None of [Index(['서울특별시 종로구 삼일대로 382 (관철동)', '서울특별시 관악구 신림로59길 15-13 4층 (신림동)',\\n       '서울특별시 구로구 구로동로22길 21 1층 (구로동)', '서울특별시 강남구 삼성로85길 33 1층 102-2호 (대치동)',\\n       '서울특별시 동대문구 난계로30길 28-7 1층 (신설동)',\\n       '서울특별시 은평구 응암로21가길 9-11 1층 102호 (응암동)',\\n       '서울특별시 강남구 논현로150길 13 혜창빌딩 지상1층 (논현동)', '서울특별시 강북구 수유로12길 60 1층 (수유동)',\\n       '서울특별시 영등포구 의사당대로1길 25 하남빌딩 2층 202호 203(일부)호 (여의도동)',\\n       '서울특별시 강남구 테헤란로52길 21 역삼동 벤처빌딩 지하1층 4호 (역삼동)',\\n       ...\\n       '서울특별시 노원구 덕릉로83길 22 1층 (중계동)', '서울특별시 성북구 성북로5길 6 1층 (성북동1가)',\\n       '서울특별시 송파구 동남로18길 23 2층 (가락동)', '서울특별시 강남구 강남대로124길 39 지하1층 101호 (논현동)',\\n       '서울특별시 성동구 살곶이길 346-1 1층 (행당동)', '서울특별시 동작구 대림로 55 1층 (신대방동)',\\n       '서울특별시 중구 다산로 137 (신당동 1층)', '서울특별시 광진구 동일로24길 28 1층 (화양동)',\\n       '서울특별시 강동구 상암로 50 (천호동)',\\n       '서울특별시 종로구 종로 19 (종로1가(르메이에르타운 지상1층 110-2호))'],\\n      dtype='object', length=121655)] are in the [columns]\""
     ]
    }
   ],
   "source": [
    "# 자치구 입력\n",
    "print('자치구 목록')\n",
    "for i in df['구'].unique():\n",
    "    print(i, end=', ')\n",
    "print('원하시는 자치구를 입력해주세요:')\n",
    "gu = input()\n",
    "\n",
    "# 음식종류 입력\n",
    "print('음식종류 목록: 상관없음', end=', ')\n",
    "for i in df['업태구분명'].unique():\n",
    "    print(i, end=', ')\n",
    "print()\n",
    "print('원하시는 음식종류를 입력해주세요:')\n",
    "food = input()\n",
    "\n",
    "if food == '상관없음':\n",
    "    food_list = df[df['구'] == gu][df['도로명주소']]['사업장명']\n",
    "else:\n",
    "    food_list = df[df['구'] == gu][df['도로명주소']][df['업태구분명'] == food]['사업장명']\n",
    "\n",
    "\"\"\" Keyword = pd.DataFrame([gu+' '+i for i in food_list])\n",
    "Keyword \"\"\"\n",
    "food_list"
   ]
  },
  {
   "cell_type": "code",
   "execution_count": 274,
   "id": "a075c380",
   "metadata": {},
   "outputs": [],
   "source": [
    "Keyword.to_csv('Keyword.csv', index=False)"
   ]
  }
 ],
 "metadata": {
  "colab": {
   "name": "전처리_.ipynb",
   "provenance": []
  },
  "kernelspec": {
   "display_name": "Python 3.9.12 ('base')",
   "language": "python",
   "name": "python3"
  },
  "language_info": {
   "codemirror_mode": {
    "name": "ipython",
    "version": 3
   },
   "file_extension": ".py",
   "mimetype": "text/x-python",
   "name": "python",
   "nbconvert_exporter": "python",
   "pygments_lexer": "ipython3",
   "version": "3.9.12"
  },
  "vscode": {
   "interpreter": {
    "hash": "ad2bdc8ecc057115af97d19610ffacc2b4e99fae6737bb82f5d7fb13d2f2c186"
   }
  }
 },
 "nbformat": 4,
 "nbformat_minor": 5
}
