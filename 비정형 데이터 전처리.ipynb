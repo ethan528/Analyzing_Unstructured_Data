{
 "cells": [
  {
   "cell_type": "code",
   "execution_count": 61,
   "id": "d628a121",
   "metadata": {
    "id": "d628a121"
   },
   "outputs": [],
   "source": [
    "import pandas as pd\n",
    "import matplotlib.pyplot as plt\n",
    "import seaborn as sns\n",
    "import warnings\n",
    "warnings.filterwarnings('ignore')"
   ]
  },
  {
   "cell_type": "code",
   "execution_count": 62,
   "id": "d6c20dcd",
   "metadata": {
    "id": "d6c20dcd",
    "outputId": "0ba80dea-76dd-4ccb-e420-45dcbe25d4f3"
   },
   "outputs": [
    {
     "name": "stdout",
     "output_type": "stream",
     "text": [
      "Index(['개방자치단체코드', '관리번호', '인허가일자', '인허가취소일자', '영업상태코드', '영업상태명', '상세영업상태코드',\n",
      "       '상세영업상태명', '폐업일자', '휴업시작일자', '휴업종료일자', '재개업일자', '전화번호', '소재지면적',\n",
      "       '소재지우편번호', '지번주소', '도로명주소', '도로명우편번호', '사업장명', '최종수정일자', '데이터갱신구분',\n",
      "       '데이터갱신일자', '업태구분명', '좌표정보(X)', '좌표정보(Y)', '위생업태명', '남성종사자수', '여성종사자수',\n",
      "       '영업장주변구분명', '등급구분명', '급수시설구분명', '총인원', '본사종업원수', '공장사무직종업원수',\n",
      "       '공장판매직종업원수', '공장생산직종업원수', '건물소유구분명', '보증액', '월세액', '다중이용업소여부', '시설총규모',\n",
      "       '전통업소지정번호', '전통업소주된음식', '홈페이지'],\n",
      "      dtype='object')\n"
     ]
    }
   ],
   "source": [
    "df = pd.read_csv(\"./서울특별시 일반음식점 인허가 정보.csv\", encoding='cp949')\n",
    "print(df.columns)"
   ]
  },
  {
   "cell_type": "code",
   "execution_count": 63,
   "id": "419f390d",
   "metadata": {
    "id": "419f390d",
    "outputId": "fc2f9887-fc72-44c8-ebe0-d21142324588"
   },
   "outputs": [
    {
     "data": {
      "text/html": [
       "<div>\n",
       "<style scoped>\n",
       "    .dataframe tbody tr th:only-of-type {\n",
       "        vertical-align: middle;\n",
       "    }\n",
       "\n",
       "    .dataframe tbody tr th {\n",
       "        vertical-align: top;\n",
       "    }\n",
       "\n",
       "    .dataframe thead th {\n",
       "        text-align: right;\n",
       "    }\n",
       "</style>\n",
       "<table border=\"1\" class=\"dataframe\">\n",
       "  <thead>\n",
       "    <tr style=\"text-align: right;\">\n",
       "      <th></th>\n",
       "      <th>도로명주소</th>\n",
       "      <th>사업장명</th>\n",
       "      <th>업태구분명</th>\n",
       "      <th>좌표정보(X)</th>\n",
       "      <th>좌표정보(Y)</th>\n",
       "    </tr>\n",
       "  </thead>\n",
       "  <tbody>\n",
       "    <tr>\n",
       "      <th>0</th>\n",
       "      <td>NaN</td>\n",
       "      <td>일식동경</td>\n",
       "      <td>일식</td>\n",
       "      <td>NaN</td>\n",
       "      <td>NaN</td>\n",
       "    </tr>\n",
       "    <tr>\n",
       "      <th>1</th>\n",
       "      <td>서울특별시 종로구 삼일대로 382 (관철동)</td>\n",
       "      <td>상해</td>\n",
       "      <td>분식</td>\n",
       "      <td>198867.7026</td>\n",
       "      <td>451824.2811</td>\n",
       "    </tr>\n",
       "    <tr>\n",
       "      <th>2</th>\n",
       "      <td>서울특별시 관악구 신림로59길 15-13 4층 (신림동)</td>\n",
       "      <td>미쿠</td>\n",
       "      <td>일식</td>\n",
       "      <td>193687.3482</td>\n",
       "      <td>442284.1640</td>\n",
       "    </tr>\n",
       "    <tr>\n",
       "      <th>3</th>\n",
       "      <td>서울특별시 구로구 구로동로22길 21 1층 (구로동)</td>\n",
       "      <td>여름엔빙수겨울엔떡국</td>\n",
       "      <td>한식</td>\n",
       "      <td>189814.3059</td>\n",
       "      <td>443046.2399</td>\n",
       "    </tr>\n",
       "    <tr>\n",
       "      <th>4</th>\n",
       "      <td>서울특별시 강남구 삼성로85길 33 1층 102-2호 (대치동)</td>\n",
       "      <td>카페디퍼</td>\n",
       "      <td>기타</td>\n",
       "      <td>204776.5483</td>\n",
       "      <td>444677.6430</td>\n",
       "    </tr>\n",
       "  </tbody>\n",
       "</table>\n",
       "</div>"
      ],
      "text/plain": [
       "                                 도로명주소        사업장명 업태구분명      좌표정보(X)  \\\n",
       "0                                  NaN        일식동경    일식          NaN   \n",
       "1             서울특별시 종로구 삼일대로 382 (관철동)          상해    분식  198867.7026   \n",
       "2      서울특별시 관악구 신림로59길 15-13 4층 (신림동)          미쿠    일식  193687.3482   \n",
       "3        서울특별시 구로구 구로동로22길 21 1층 (구로동)  여름엔빙수겨울엔떡국    한식  189814.3059   \n",
       "4  서울특별시 강남구 삼성로85길 33 1층 102-2호 (대치동)        카페디퍼    기타  204776.5483   \n",
       "\n",
       "       좌표정보(Y)  \n",
       "0          NaN  \n",
       "1  451824.2811  \n",
       "2  442284.1640  \n",
       "3  443046.2399  \n",
       "4  444677.6430  "
      ]
     },
     "execution_count": 63,
     "metadata": {},
     "output_type": "execute_result"
    }
   ],
   "source": [
    "df = df[['도로명주소' , '사업장명', '업태구분명']]\n",
    "df.head()"
   ]
  },
  {
   "cell_type": "code",
   "execution_count": 64,
   "id": "f9deb7a9",
   "metadata": {},
   "outputs": [
    {
     "data": {
      "text/plain": [
       "도로명주소      1698\n",
       "사업장명          1\n",
       "업태구분명        11\n",
       "좌표정보(X)    1655\n",
       "좌표정보(Y)    1655\n",
       "dtype: int64"
      ]
     },
     "execution_count": 64,
     "metadata": {},
     "output_type": "execute_result"
    }
   ],
   "source": [
    "df.isna().sum()"
   ]
  },
  {
   "cell_type": "code",
   "execution_count": 65,
   "id": "09e616bc",
   "metadata": {
    "id": "09e616bc",
    "outputId": "c18db353-f0a3-4854-dbe1-26e1e81f76da",
    "scrolled": true
   },
   "outputs": [
    {
     "data": {
      "text/html": [
       "<div>\n",
       "<style scoped>\n",
       "    .dataframe tbody tr th:only-of-type {\n",
       "        vertical-align: middle;\n",
       "    }\n",
       "\n",
       "    .dataframe tbody tr th {\n",
       "        vertical-align: top;\n",
       "    }\n",
       "\n",
       "    .dataframe thead th {\n",
       "        text-align: right;\n",
       "    }\n",
       "</style>\n",
       "<table border=\"1\" class=\"dataframe\">\n",
       "  <thead>\n",
       "    <tr style=\"text-align: right;\">\n",
       "      <th></th>\n",
       "      <th>도로명주소</th>\n",
       "      <th>사업장명</th>\n",
       "      <th>업태구분명</th>\n",
       "      <th>좌표정보(X)</th>\n",
       "      <th>좌표정보(Y)</th>\n",
       "    </tr>\n",
       "  </thead>\n",
       "  <tbody>\n",
       "    <tr>\n",
       "      <th>1</th>\n",
       "      <td>서울특별시 종로구 삼일대로 382 (관철동)</td>\n",
       "      <td>상해</td>\n",
       "      <td>분식</td>\n",
       "      <td>198867.7026</td>\n",
       "      <td>451824.2811</td>\n",
       "    </tr>\n",
       "    <tr>\n",
       "      <th>2</th>\n",
       "      <td>서울특별시 관악구 신림로59길 15-13 4층 (신림동)</td>\n",
       "      <td>미쿠</td>\n",
       "      <td>일식</td>\n",
       "      <td>193687.3482</td>\n",
       "      <td>442284.1640</td>\n",
       "    </tr>\n",
       "    <tr>\n",
       "      <th>3</th>\n",
       "      <td>서울특별시 구로구 구로동로22길 21 1층 (구로동)</td>\n",
       "      <td>여름엔빙수겨울엔떡국</td>\n",
       "      <td>한식</td>\n",
       "      <td>189814.3059</td>\n",
       "      <td>443046.2399</td>\n",
       "    </tr>\n",
       "    <tr>\n",
       "      <th>4</th>\n",
       "      <td>서울특별시 강남구 삼성로85길 33 1층 102-2호 (대치동)</td>\n",
       "      <td>카페디퍼</td>\n",
       "      <td>기타</td>\n",
       "      <td>204776.5483</td>\n",
       "      <td>444677.6430</td>\n",
       "    </tr>\n",
       "    <tr>\n",
       "      <th>5</th>\n",
       "      <td>서울특별시 동대문구 난계로30길 28-7 1층 (신설동)</td>\n",
       "      <td>메이크데이(MakeDay)</td>\n",
       "      <td>기타</td>\n",
       "      <td>202114.2284</td>\n",
       "      <td>452392.0938</td>\n",
       "    </tr>\n",
       "  </tbody>\n",
       "</table>\n",
       "</div>"
      ],
      "text/plain": [
       "                                 도로명주소            사업장명 업태구분명      좌표정보(X)  \\\n",
       "1             서울특별시 종로구 삼일대로 382 (관철동)              상해    분식  198867.7026   \n",
       "2      서울특별시 관악구 신림로59길 15-13 4층 (신림동)              미쿠    일식  193687.3482   \n",
       "3        서울특별시 구로구 구로동로22길 21 1층 (구로동)      여름엔빙수겨울엔떡국    한식  189814.3059   \n",
       "4  서울특별시 강남구 삼성로85길 33 1층 102-2호 (대치동)            카페디퍼    기타  204776.5483   \n",
       "5      서울특별시 동대문구 난계로30길 28-7 1층 (신설동)  메이크데이(MakeDay)    기타  202114.2284   \n",
       "\n",
       "       좌표정보(Y)  \n",
       "1  451824.2811  \n",
       "2  442284.1640  \n",
       "3  443046.2399  \n",
       "4  444677.6430  \n",
       "5  452392.0938  "
      ]
     },
     "execution_count": 65,
     "metadata": {},
     "output_type": "execute_result"
    }
   ],
   "source": [
    "df = df.dropna()\n",
    "df.head()"
   ]
  },
  {
   "cell_type": "code",
   "execution_count": 66,
   "id": "53cee9df",
   "metadata": {
    "id": "53cee9df",
    "outputId": "0104909f-f3b4-437c-8439-5b1cdc471ec1"
   },
   "outputs": [
    {
     "data": {
      "text/plain": [
       "감성주점                223\n",
       "경양식                9228\n",
       "기타                17812\n",
       "김밥(도시락)             583\n",
       "까페                 2092\n",
       "냉면집                 103\n",
       "라이브카페               190\n",
       "복어취급                 51\n",
       "분식                 9048\n",
       "뷔페식                 457\n",
       "식육(숯불구이)            882\n",
       "외국음식전문점(인도태국등)     1370\n",
       "이동조리                  7\n",
       "일식                 6118\n",
       "전통찻집                 51\n",
       "정종/대포집/소주방         2229\n",
       "중국식                4531\n",
       "출장조리                100\n",
       "커피숍                   3\n",
       "키즈카페                 66\n",
       "탕류(보신용)             143\n",
       "통닭(치킨)             2530\n",
       "패밀리레스트랑             171\n",
       "패스트푸드               705\n",
       "한식                52145\n",
       "호프/통닭             10353\n",
       "회집                  276\n",
       "횟집                  295\n",
       "Name: 업태구분명, dtype: int64"
      ]
     },
     "execution_count": 66,
     "metadata": {},
     "output_type": "execute_result"
    }
   ],
   "source": [
    "df[\"업태구분명\"].value_counts().sort_index()"
   ]
  },
  {
   "cell_type": "code",
   "execution_count": 67,
   "id": "92609a82",
   "metadata": {},
   "outputs": [
    {
     "data": {
      "text/html": [
       "<div>\n",
       "<style scoped>\n",
       "    .dataframe tbody tr th:only-of-type {\n",
       "        vertical-align: middle;\n",
       "    }\n",
       "\n",
       "    .dataframe tbody tr th {\n",
       "        vertical-align: top;\n",
       "    }\n",
       "\n",
       "    .dataframe thead th {\n",
       "        text-align: right;\n",
       "    }\n",
       "</style>\n",
       "<table border=\"1\" class=\"dataframe\">\n",
       "  <thead>\n",
       "    <tr style=\"text-align: right;\">\n",
       "      <th></th>\n",
       "      <th>도로명주소</th>\n",
       "      <th>사업장명</th>\n",
       "      <th>업태구분명</th>\n",
       "      <th>좌표정보(X)</th>\n",
       "      <th>좌표정보(Y)</th>\n",
       "    </tr>\n",
       "  </thead>\n",
       "  <tbody>\n",
       "    <tr>\n",
       "      <th>1</th>\n",
       "      <td>서울특별시 종로구 삼일대로 382 (관철동)</td>\n",
       "      <td>상해</td>\n",
       "      <td>분식</td>\n",
       "      <td>198867.7026</td>\n",
       "      <td>451824.2811</td>\n",
       "    </tr>\n",
       "    <tr>\n",
       "      <th>2</th>\n",
       "      <td>서울특별시 관악구 신림로59길 15-13 4층 (신림동)</td>\n",
       "      <td>미쿠</td>\n",
       "      <td>일식</td>\n",
       "      <td>193687.3482</td>\n",
       "      <td>442284.1640</td>\n",
       "    </tr>\n",
       "    <tr>\n",
       "      <th>3</th>\n",
       "      <td>서울특별시 구로구 구로동로22길 21 1층 (구로동)</td>\n",
       "      <td>여름엔빙수겨울엔떡국</td>\n",
       "      <td>한식</td>\n",
       "      <td>189814.3059</td>\n",
       "      <td>443046.2399</td>\n",
       "    </tr>\n",
       "    <tr>\n",
       "      <th>4</th>\n",
       "      <td>서울특별시 강남구 삼성로85길 33 1층 102-2호 (대치동)</td>\n",
       "      <td>카페디퍼</td>\n",
       "      <td>카페</td>\n",
       "      <td>204776.5483</td>\n",
       "      <td>444677.6430</td>\n",
       "    </tr>\n",
       "    <tr>\n",
       "      <th>5</th>\n",
       "      <td>서울특별시 동대문구 난계로30길 28-7 1층 (신설동)</td>\n",
       "      <td>메이크데이(MakeDay)</td>\n",
       "      <td>카페</td>\n",
       "      <td>202114.2284</td>\n",
       "      <td>452392.0938</td>\n",
       "    </tr>\n",
       "  </tbody>\n",
       "</table>\n",
       "</div>"
      ],
      "text/plain": [
       "                                 도로명주소            사업장명 업태구분명      좌표정보(X)  \\\n",
       "1             서울특별시 종로구 삼일대로 382 (관철동)              상해    분식  198867.7026   \n",
       "2      서울특별시 관악구 신림로59길 15-13 4층 (신림동)              미쿠    일식  193687.3482   \n",
       "3        서울특별시 구로구 구로동로22길 21 1층 (구로동)      여름엔빙수겨울엔떡국    한식  189814.3059   \n",
       "4  서울특별시 강남구 삼성로85길 33 1층 102-2호 (대치동)            카페디퍼    카페  204776.5483   \n",
       "5      서울특별시 동대문구 난계로30길 28-7 1층 (신설동)  메이크데이(MakeDay)    카페  202114.2284   \n",
       "\n",
       "       좌표정보(Y)  \n",
       "1  451824.2811  \n",
       "2  442284.1640  \n",
       "3  443046.2399  \n",
       "4  444677.6430  \n",
       "5  452392.0938  "
      ]
     },
     "execution_count": 67,
     "metadata": {},
     "output_type": "execute_result"
    }
   ],
   "source": [
    "separated_dict = {'경양식':'양식','뷔페식':'양식','패밀리레스트랑':'양식',\n",
    "'회집':'해산물','횟집':'해산물','복어취급':'해산물',\n",
    "'분식':'분식','냉면집':'분식','김밥(도시락)':'분식',\n",
    "'통닭(치킨)':'치킨','호프/통닭':'치킨',\n",
    "'한식':'한식','탕류(보신용)':'한식',\n",
    "'커피숍':'카페','까페':'카페','키즈카페':'카페','라이브카페':'카페','전통찻집':'카페','기타':'카페',\n",
    "'정종/대포집/소주방':'술집','감성주점':'술집',\n",
    "'식육(숯불구이)':'고기',\n",
    "'중국식':'중식',\n",
    "'외국음식전문점(인도태국등)':'외국음식',\n",
    "'출장조리':None, '이동조리':None}\n",
    "\n",
    "for i, j in separated_dict.items():\n",
    "    df = df.replace(i, j)\n",
    "\n",
    "df = df.dropna()\n",
    "df.head()"
   ]
  },
  {
   "cell_type": "code",
   "execution_count": 74,
   "id": "eadeee34",
   "metadata": {},
   "outputs": [],
   "source": [
    "df['도로명주소'] = [' '.join(i.split()[:4]) for i in df['도로명주소']]\n",
    "df['도로명주소']"
   ]
  },
  {
   "cell_type": "code",
   "execution_count": 272,
   "id": "3ce41997",
   "metadata": {},
   "outputs": [
    {
     "data": {
      "image/png": "[encoded data removed]",
      "text/plain": [
       "<Figure size 1080x360 with 1 Axes>"
      ]
     },
     "metadata": {
      "needs_background": "light"
     },
     "output_type": "display_data"
    }
   ],
   "source": [
    "plt.figure(figsize=(15,5))\n",
    "plt.rcParams['font.family'] = 'Malgun Gothic'\n",
    "sns.countplot(df['업태구분명'])\n",
    "plt.show()"
   ]
  },
  {
   "cell_type": "code",
   "execution_count": 119,
   "id": "0f35df56",
   "metadata": {},
   "outputs": [
    {
     "data": {
      "text/html": [
       "<div>\n",
       "<style scoped>\n",
       "    .dataframe tbody tr th:only-of-type {\n",
       "        vertical-align: middle;\n",
       "    }\n",
       "\n",
       "    .dataframe tbody tr th {\n",
       "        vertical-align: top;\n",
       "    }\n",
       "\n",
       "    .dataframe thead th {\n",
       "        text-align: right;\n",
       "    }\n",
       "</style>\n",
       "<table border=\"1\" class=\"dataframe\">\n",
       "  <thead>\n",
       "    <tr style=\"text-align: right;\">\n",
       "      <th></th>\n",
       "      <th>도로명주소</th>\n",
       "      <th>사업장명</th>\n",
       "    </tr>\n",
       "  </thead>\n",
       "  <tbody>\n",
       "    <tr>\n",
       "      <th>0</th>\n",
       "      <td>서울특별시 종로구 삼일대로 382</td>\n",
       "      <td>상해</td>\n",
       "    </tr>\n",
       "    <tr>\n",
       "      <th>1</th>\n",
       "      <td>서울특별시 종로구 창신길 78</td>\n",
       "      <td>짱구</td>\n",
       "    </tr>\n",
       "    <tr>\n",
       "      <th>2</th>\n",
       "      <td>서울특별시 종로구 팔판길 42</td>\n",
       "      <td>라끌레</td>\n",
       "    </tr>\n",
       "    <tr>\n",
       "      <th>3</th>\n",
       "      <td>서울특별시 종로구 종로 51</td>\n",
       "      <td>마샐</td>\n",
       "    </tr>\n",
       "    <tr>\n",
       "      <th>4</th>\n",
       "      <td>서울특별시 종로구 사직로 49-12</td>\n",
       "      <td>사직터널 그집</td>\n",
       "    </tr>\n",
       "    <tr>\n",
       "      <th>...</th>\n",
       "      <td>...</td>\n",
       "      <td>...</td>\n",
       "    </tr>\n",
       "    <tr>\n",
       "      <th>6650</th>\n",
       "      <td>서울특별시 종로구 자하문로 21</td>\n",
       "      <td>네스트(nest)</td>\n",
       "    </tr>\n",
       "    <tr>\n",
       "      <th>6651</th>\n",
       "      <td>서울특별시 종로구 돈화문로5가길 1</td>\n",
       "      <td>행운돈까스지기</td>\n",
       "    </tr>\n",
       "    <tr>\n",
       "      <th>6652</th>\n",
       "      <td>서울특별시 종로구 청계천로 57</td>\n",
       "      <td>3평양조</td>\n",
       "    </tr>\n",
       "    <tr>\n",
       "      <th>6653</th>\n",
       "      <td>서울특별시 종로구 대학로12길 4</td>\n",
       "      <td>파주감악산대학로점</td>\n",
       "    </tr>\n",
       "    <tr>\n",
       "      <th>6654</th>\n",
       "      <td>서울특별시 종로구 종로 19</td>\n",
       "      <td>제주도집</td>\n",
       "    </tr>\n",
       "  </tbody>\n",
       "</table>\n",
       "<p>6655 rows × 2 columns</p>\n",
       "</div>"
      ],
      "text/plain": [
       "                    도로명주소       사업장명\n",
       "0      서울특별시 종로구 삼일대로 382         상해\n",
       "1        서울특별시 종로구 창신길 78         짱구\n",
       "2        서울특별시 종로구 팔판길 42        라끌레\n",
       "3         서울특별시 종로구 종로 51         마샐\n",
       "4     서울특별시 종로구 사직로 49-12    사직터널 그집\n",
       "...                   ...        ...\n",
       "6650    서울특별시 종로구 자하문로 21  네스트(nest)\n",
       "6651  서울특별시 종로구 돈화문로5가길 1    행운돈까스지기\n",
       "6652    서울특별시 종로구 청계천로 57       3평양조\n",
       "6653   서울특별시 종로구 대학로12길 4  파주감악산대학로점\n",
       "6654      서울특별시 종로구 종로 19       제주도집\n",
       "\n",
       "[6655 rows x 2 columns]"
      ]
     },
     "execution_count": 119,
     "metadata": {},
     "output_type": "execute_result"
    }
   ],
   "source": [
    "gu = '종로구'\n",
    "df[df['도로명주소'].str.contains(gu)][['도로명주소','사업장명']].reset_index(drop=True)"
   ]
  },
  {
   "cell_type": "code",
   "execution_count": 88,
   "id": "f72ee25c",
   "metadata": {},
   "outputs": [
    {
     "name": "stdout",
     "output_type": "stream",
     "text": [
      "자치구 목록\n",
      "서초구, 동대문구, 금천구, 마포구, 관악구, 동작구, 영등포구, 은평구, 중랑구, 구로구, 송파구, 강남구, 용산구, 서대문구, 강서구, 성북구, 중구, 노원구, 강북구, 도봉구, 양천구, 광진구, 종로구, 강동구, 성동구\n",
      "원하시는 자치구를 입력해주세요\n",
      "\"종로구\"를 선택하셨습니다.\n",
      "메뉴 목록\n",
      "모두, 분식, 일식, 한식, 카페, 양식, 치킨, 외국음식, 중식, 고기, 해산물, 술집, 패스트푸드\n",
      "원하시는 메뉴를 입력해주세요.\n",
      "\"분식\"를 선택하셨습니다.\n"
     ]
    },
    {
     "ename": "KeyError",
     "evalue": "'사업장명'",
     "output_type": "error",
     "traceback": [
      "\u001b[1;31m---------------------------------------------------------------------------\u001b[0m",
      "\u001b[1;31mKeyError\u001b[0m                                  Traceback (most recent call last)",
      "File \u001b[1;32mc:\\ProgramData\\Anaconda3\\lib\\site-packages\\pandas\\core\\indexes\\base.py:3621\u001b[0m, in \u001b[0;36mIndex.get_loc\u001b[1;34m(self, key, method, tolerance)\u001b[0m\n\u001b[0;32m   3620\u001b[0m \u001b[39mtry\u001b[39;00m:\n\u001b[1;32m-> 3621\u001b[0m     \u001b[39mreturn\u001b[39;00m \u001b[39mself\u001b[39;49m\u001b[39m.\u001b[39;49m_engine\u001b[39m.\u001b[39;49mget_loc(casted_key)\n\u001b[0;32m   3622\u001b[0m \u001b[39mexcept\u001b[39;00m \u001b[39mKeyError\u001b[39;00m \u001b[39mas\u001b[39;00m err:\n",
      "File \u001b[1;32mc:\\ProgramData\\Anaconda3\\lib\\site-packages\\pandas\\_libs\\index.pyx:136\u001b[0m, in \u001b[0;36mpandas._libs.index.IndexEngine.get_loc\u001b[1;34m()\u001b[0m\n",
      "File \u001b[1;32mc:\\ProgramData\\Anaconda3\\lib\\site-packages\\pandas\\_libs\\index.pyx:144\u001b[0m, in \u001b[0;36mpandas._libs.index.IndexEngine.get_loc\u001b[1;34m()\u001b[0m\n",
      "File \u001b[1;32mpandas\\_libs\\index_class_helper.pxi:41\u001b[0m, in \u001b[0;36mpandas._libs.index.Int64Engine._check_type\u001b[1;34m()\u001b[0m\n",
      "\u001b[1;31mKeyError\u001b[0m: '사업장명'",
      "\nThe above exception was the direct cause of the following exception:\n",
      "\u001b[1;31mKeyError\u001b[0m                                  Traceback (most recent call last)",
      "\u001b[1;32mc:\\git\\Analyzing_Unstructured_Data\\비정형 데이터 전처리.ipynb 셀 11\u001b[0m in \u001b[0;36m<cell line: 15>\u001b[1;34m()\u001b[0m\n\u001b[0;32m     <a href='vscode-notebook-cell:/c%3A/git/Analyzing_Unstructured_Data/%EB%B9%84%EC%A0%95%ED%98%95%20%EB%8D%B0%EC%9D%B4%ED%84%B0%20%EC%A0%84%EC%B2%98%EB%A6%AC.ipynb#X26sZmlsZQ%3D%3D?line=15'>16</a>\u001b[0m     Keyword \u001b[39m=\u001b[39m df[df[\u001b[39m'\u001b[39m\u001b[39m도로명주소\u001b[39m\u001b[39m'\u001b[39m]\u001b[39m.\u001b[39mstr\u001b[39m.\u001b[39mcontains(gu)][\u001b[39m'\u001b[39m\u001b[39m도로명주소\u001b[39m\u001b[39m'\u001b[39m][\u001b[39m'\u001b[39m\u001b[39m사업장명\u001b[39m\u001b[39m'\u001b[39m]\n\u001b[0;32m     <a href='vscode-notebook-cell:/c%3A/git/Analyzing_Unstructured_Data/%EB%B9%84%EC%A0%95%ED%98%95%20%EB%8D%B0%EC%9D%B4%ED%84%B0%20%EC%A0%84%EC%B2%98%EB%A6%AC.ipynb#X26sZmlsZQ%3D%3D?line=16'>17</a>\u001b[0m \u001b[39melse\u001b[39;00m:\n\u001b[1;32m---> <a href='vscode-notebook-cell:/c%3A/git/Analyzing_Unstructured_Data/%EB%B9%84%EC%A0%95%ED%98%95%20%EB%8D%B0%EC%9D%B4%ED%84%B0%20%EC%A0%84%EC%B2%98%EB%A6%AC.ipynb#X26sZmlsZQ%3D%3D?line=17'>18</a>\u001b[0m     Keyword \u001b[39m=\u001b[39m df[df[\u001b[39m'\u001b[39;49m\u001b[39m도로명주소\u001b[39;49m\u001b[39m'\u001b[39;49m]\u001b[39m.\u001b[39;49mstr\u001b[39m.\u001b[39;49mcontains(gu)][df[\u001b[39m'\u001b[39;49m\u001b[39m업태구분명\u001b[39;49m\u001b[39m'\u001b[39;49m] \u001b[39m==\u001b[39;49m menu][\u001b[39m'\u001b[39;49m\u001b[39m도로명주소\u001b[39;49m\u001b[39m'\u001b[39;49m][\u001b[39m'\u001b[39;49m\u001b[39m사업장명\u001b[39;49m\u001b[39m'\u001b[39;49m]\n\u001b[0;32m     <a href='vscode-notebook-cell:/c%3A/git/Analyzing_Unstructured_Data/%EB%B9%84%EC%A0%95%ED%98%95%20%EB%8D%B0%EC%9D%B4%ED%84%B0%20%EC%A0%84%EC%B2%98%EB%A6%AC.ipynb#X26sZmlsZQ%3D%3D?line=19'>20</a>\u001b[0m \u001b[39m# Keyword = pd.DataFrame(Keyword)\u001b[39;00m\n\u001b[0;32m     <a href='vscode-notebook-cell:/c%3A/git/Analyzing_Unstructured_Data/%EB%B9%84%EC%A0%95%ED%98%95%20%EB%8D%B0%EC%9D%B4%ED%84%B0%20%EC%A0%84%EC%B2%98%EB%A6%AC.ipynb#X26sZmlsZQ%3D%3D?line=20'>21</a>\u001b[0m Keyword\n",
      "File \u001b[1;32mc:\\ProgramData\\Anaconda3\\lib\\site-packages\\pandas\\core\\series.py:958\u001b[0m, in \u001b[0;36mSeries.__getitem__\u001b[1;34m(self, key)\u001b[0m\n\u001b[0;32m    955\u001b[0m     \u001b[39mreturn\u001b[39;00m \u001b[39mself\u001b[39m\u001b[39m.\u001b[39m_values[key]\n\u001b[0;32m    957\u001b[0m \u001b[39melif\u001b[39;00m key_is_scalar:\n\u001b[1;32m--> 958\u001b[0m     \u001b[39mreturn\u001b[39;00m \u001b[39mself\u001b[39;49m\u001b[39m.\u001b[39;49m_get_value(key)\n\u001b[0;32m    960\u001b[0m \u001b[39mif\u001b[39;00m is_hashable(key):\n\u001b[0;32m    961\u001b[0m     \u001b[39m# Otherwise index.get_value will raise InvalidIndexError\u001b[39;00m\n\u001b[0;32m    962\u001b[0m     \u001b[39mtry\u001b[39;00m:\n\u001b[0;32m    963\u001b[0m         \u001b[39m# For labels that don't resolve as scalars like tuples and frozensets\u001b[39;00m\n",
      "File \u001b[1;32mc:\\ProgramData\\Anaconda3\\lib\\site-packages\\pandas\\core\\series.py:1069\u001b[0m, in \u001b[0;36mSeries._get_value\u001b[1;34m(self, label, takeable)\u001b[0m\n\u001b[0;32m   1066\u001b[0m     \u001b[39mreturn\u001b[39;00m \u001b[39mself\u001b[39m\u001b[39m.\u001b[39m_values[label]\n\u001b[0;32m   1068\u001b[0m \u001b[39m# Similar to Index.get_value, but we do not fall back to positional\u001b[39;00m\n\u001b[1;32m-> 1069\u001b[0m loc \u001b[39m=\u001b[39m \u001b[39mself\u001b[39;49m\u001b[39m.\u001b[39;49mindex\u001b[39m.\u001b[39;49mget_loc(label)\n\u001b[0;32m   1070\u001b[0m \u001b[39mreturn\u001b[39;00m \u001b[39mself\u001b[39m\u001b[39m.\u001b[39mindex\u001b[39m.\u001b[39m_get_values_for_loc(\u001b[39mself\u001b[39m, loc, label)\n",
      "File \u001b[1;32mc:\\ProgramData\\Anaconda3\\lib\\site-packages\\pandas\\core\\indexes\\base.py:3623\u001b[0m, in \u001b[0;36mIndex.get_loc\u001b[1;34m(self, key, method, tolerance)\u001b[0m\n\u001b[0;32m   3621\u001b[0m     \u001b[39mreturn\u001b[39;00m \u001b[39mself\u001b[39m\u001b[39m.\u001b[39m_engine\u001b[39m.\u001b[39mget_loc(casted_key)\n\u001b[0;32m   3622\u001b[0m \u001b[39mexcept\u001b[39;00m \u001b[39mKeyError\u001b[39;00m \u001b[39mas\u001b[39;00m err:\n\u001b[1;32m-> 3623\u001b[0m     \u001b[39mraise\u001b[39;00m \u001b[39mKeyError\u001b[39;00m(key) \u001b[39mfrom\u001b[39;00m \u001b[39merr\u001b[39;00m\n\u001b[0;32m   3624\u001b[0m \u001b[39mexcept\u001b[39;00m \u001b[39mTypeError\u001b[39;00m:\n\u001b[0;32m   3625\u001b[0m     \u001b[39m# If we have a listlike key, _check_indexing_error will raise\u001b[39;00m\n\u001b[0;32m   3626\u001b[0m     \u001b[39m#  InvalidIndexError. Otherwise we fall through and re-raise\u001b[39;00m\n\u001b[0;32m   3627\u001b[0m     \u001b[39m#  the TypeError.\u001b[39;00m\n\u001b[0;32m   3628\u001b[0m     \u001b[39mself\u001b[39m\u001b[39m.\u001b[39m_check_indexing_error(key)\n",
      "\u001b[1;31mKeyError\u001b[0m: '사업장명'"
     ]
    }
   ],
   "source": [
    "# 자치구\n",
    "print(f'''자치구 목록\n",
    "{', '.join([i for i in set([i.split()[1] for i in df['도로명주소']])])}\n",
    "원하시는 자치구를 입력해주세요''')\n",
    "gu = input()\n",
    "print(f'\"{gu}\"를 선택하셨습니다.')\n",
    "\n",
    "# 메뉴\n",
    "print(f'''메뉴 목록\n",
    "모두, {', '.join([i for i in df['업태구분명'].unique()])}\n",
    "원하시는 메뉴를 입력해주세요.''')\n",
    "menu = input()\n",
    "print(f'\"{menu}\"를 선택하셨습니다.')\n",
    "\n",
    "if menu == '모두':\n",
    "    Keyword = df[df['도로명주소'].str.contains(gu)]['도로명주소']['사업장명']\n",
    "else:\n",
    "    Keyword = df[df['도로명주소'].str.contains(gu)][df['업태구분명'] == menu]['도로명주소']['사업장명']\n",
    "\n",
    "# Keyword = pd.DataFrame(Keyword)\n",
    "Keyword"
   ]
  },
  {
   "cell_type": "code",
   "execution_count": 274,
   "id": "a075c380",
   "metadata": {},
   "outputs": [],
   "source": [
    "Keyword.to_csv('Keyword.csv', index=False)"
   ]
  }
 ],
 "metadata": {
  "colab": {
   "name": "전처리_.ipynb",
   "provenance": []
  },
  "kernelspec": {
   "display_name": "Python 3.9.12 ('base')",
   "language": "python",
   "name": "python3"
  },
  "language_info": {
   "codemirror_mode": {
    "name": "ipython",
    "version": 3
   },
   "file_extension": ".py",
   "mimetype": "text/x-python",
   "name": "python",
   "nbconvert_exporter": "python",
   "pygments_lexer": "ipython3",
   "version": "3.9.12"
  },
  "vscode": {
   "interpreter": {
    "hash": "ad2bdc8ecc057115af97d19610ffacc2b4e99fae6737bb82f5d7fb13d2f2c186"
   }
  }
 },
 "nbformat": 4,
 "nbformat_minor": 5
}
