{
 "cells": [
  {
   "cell_type": "code",
   "execution_count": 1,
   "metadata": {},
   "outputs": [],
   "source": [
    "import pandas as pd\n",
    "import numpy as np\n",
    "from selenium import webdriver\n",
    "from bs4 import BeautifulSoup\n",
    "from selenium.webdriver.common.by import By\n",
    "from selenium.webdriver.support.ui import WebDriverWait\n",
    "from selenium.webdriver.support import expected_conditions as EC\n",
    "from tqdm import tqdm_notebook\n",
    "\n",
    "import warnings\n",
    "warnings.filterwarnings(\"ignore\")"
   ]
  },
  {
   "cell_type": "code",
   "execution_count": 2,
   "metadata": {},
   "outputs": [
    {
     "data": {
      "text/html": [
       "<div>\n",
       "<style scoped>\n",
       "    .dataframe tbody tr th:only-of-type {\n",
       "        vertical-align: middle;\n",
       "    }\n",
       "\n",
       "    .dataframe tbody tr th {\n",
       "        vertical-align: top;\n",
       "    }\n",
       "\n",
       "    .dataframe thead th {\n",
       "        text-align: right;\n",
       "    }\n",
       "</style>\n",
       "<table border=\"1\" class=\"dataframe\">\n",
       "  <thead>\n",
       "    <tr style=\"text-align: right;\">\n",
       "      <th></th>\n",
       "      <th>0</th>\n",
       "    </tr>\n",
       "  </thead>\n",
       "  <tbody>\n",
       "    <tr>\n",
       "      <th>0</th>\n",
       "      <td>종로구 상해</td>\n",
       "    </tr>\n",
       "    <tr>\n",
       "      <th>1</th>\n",
       "      <td>종로구 짱구</td>\n",
       "    </tr>\n",
       "    <tr>\n",
       "      <th>2</th>\n",
       "      <td>종로구 교촌치킨 숭인점</td>\n",
       "    </tr>\n",
       "    <tr>\n",
       "      <th>3</th>\n",
       "      <td>종로구 수제비집</td>\n",
       "    </tr>\n",
       "    <tr>\n",
       "      <th>4</th>\n",
       "      <td>종로구 아람</td>\n",
       "    </tr>\n",
       "    <tr>\n",
       "      <th>...</th>\n",
       "      <td>...</td>\n",
       "    </tr>\n",
       "    <tr>\n",
       "      <th>665</th>\n",
       "      <td>종로구 속이 알찬 주먹밥</td>\n",
       "    </tr>\n",
       "    <tr>\n",
       "      <th>666</th>\n",
       "      <td>종로구 좋아좋아분식</td>\n",
       "    </tr>\n",
       "    <tr>\n",
       "      <th>667</th>\n",
       "      <td>종로구 헬로사이공</td>\n",
       "    </tr>\n",
       "    <tr>\n",
       "      <th>668</th>\n",
       "      <td>종로구 호랭이 뼈다귀</td>\n",
       "    </tr>\n",
       "    <tr>\n",
       "      <th>669</th>\n",
       "      <td>종로구 삼삼실내포차</td>\n",
       "    </tr>\n",
       "  </tbody>\n",
       "</table>\n",
       "<p>670 rows × 1 columns</p>\n",
       "</div>"
      ],
      "text/plain": [
       "                 0\n",
       "0           종로구 상해\n",
       "1           종로구 짱구\n",
       "2     종로구 교촌치킨 숭인점\n",
       "3         종로구 수제비집\n",
       "4           종로구 아람\n",
       "..             ...\n",
       "665  종로구 속이 알찬 주먹밥\n",
       "666     종로구 좋아좋아분식\n",
       "667      종로구 헬로사이공\n",
       "668    종로구 호랭이 뼈다귀\n",
       "669     종로구 삼삼실내포차\n",
       "\n",
       "[670 rows x 1 columns]"
      ]
     },
     "execution_count": 2,
     "metadata": {},
     "output_type": "execute_result"
    }
   ],
   "source": [
    "names_df = pd.read_csv('./Keyword.csv')\n",
    "names_df"
   ]
  },
  {
   "cell_type": "code",
   "execution_count": 8,
   "metadata": {},
   "outputs": [
    {
     "data": {
      "application/vnd.jupyter.widget-view+json": {
       "model_id": "59d1d9f62c934b5b89cf0e2a8a7e1c20",
       "version_major": 2,
       "version_minor": 0
      },
      "text/plain": [
       "  0%|          | 0/670 [00:00<?, ?it/s]"
      ]
     },
     "metadata": {},
     "output_type": "display_data"
    }
   ],
   "source": [
    "# 창이 나오지 않게 설정\n",
    "options = webdriver.ChromeOptions()\n",
    "options.add_argument('headless')\n",
    "\n",
    "path = 'chromedriver.exe' # 크롬드라이버 경로 설정\n",
    "\n",
    "source_url = \"https://map.kakao.com/\" # 리뷰주소 크롤링을 해 올 주소 설정\n",
    "\n",
    "page_urls = [] #리뷰주소 크롤링 결과를 담을 리스트\n",
    "\n",
    "driver = webdriver.Chrome(executable_path=path, chrome_options=options)\n",
    "\n",
    "for name in tqdm_notebook(names_df['0']):\n",
    "    try:\n",
    "        driver.get(source_url)\n",
    "\n",
    "        search_bar = driver.find_element_by_xpath(\"//input[@id='search.keyword.query']\") # 검색창 찾기\n",
    "        search_bar.send_keys(name)\n",
    "\n",
    "        searchbutton = driver.find_element_by_xpath(\"//button[@id='search.keyword.submit']\") # 검색 버튼 누르기\n",
    "        driver.execute_script(\"arguments[0].click();\", searchbutton)\n",
    "\n",
    "        WebDriverWait(driver, 5).until(EC.presence_of_element_located((By.XPATH, '//*[@id=\"info.search.place.list\"]/li[2]/div[3]/strong/a[1]')))\n",
    "\n",
    "        html = driver.page_source # 페이지 소스 설정\n",
    "\n",
    "        soup = BeautifulSoup(html, \"html.parser\") # 페이지 소스 파싱\n",
    "        moreview = soup.find(name=\"a\", attrs={\"class\":\"moreview\"}) # 상세 보기 찾기\n",
    "    \n",
    "        page_url = moreview.get(\"href\") # 상세보기에 링크된 리뷰주소 가져오기\n",
    "        page_urls.append(page_url) \n",
    "    except:\n",
    "        pass\n",
    "\n",
    "driver.close()"
   ]
  },
  {
   "cell_type": "code",
   "execution_count": 9,
   "metadata": {},
   "outputs": [
    {
     "data": {
      "text/plain": [
       "'https://place.map.kakao.com/586571741'"
      ]
     },
     "execution_count": 9,
     "metadata": {},
     "output_type": "execute_result"
    }
   ],
   "source": [
    "page_url"
   ]
  },
  {
   "cell_type": "code",
   "execution_count": null,
   "metadata": {},
   "outputs": [],
   "source": [
    "# 이미 리뷰주소가 있을 경우 사용\n",
    "'''page_urls = []\n",
    "\n",
    "for i in names_df.리뷰주소:\n",
    "    page_urls.append(i)\n",
    "\n",
    "options = webdriver.ChromeOptions()\n",
    "options.add_argument('headless')\n",
    "\n",
    "path = 'C:/Users/USER/TIL/chromedriver' '''"
   ]
  },
  {
   "cell_type": "code",
   "execution_count": 10,
   "metadata": {},
   "outputs": [
    {
     "data": {
      "application/vnd.jupyter.widget-view+json": {
       "model_id": "afb0b9cd9f224e56beb324e8010c3f71",
       "version_major": 2,
       "version_minor": 0
      },
      "text/plain": [
       "  0%|          | 0/281 [00:00<?, ?it/s]"
      ]
     },
     "metadata": {},
     "output_type": "display_data"
    }
   ],
   "source": [
    "columns = ['name', 'score', 'review']\n",
    "review_df = pd.DataFrame(columns=columns)\n",
    "\n",
    "driver = webdriver.Chrome(executable_path=path, chrome_options=options)\n",
    "\n",
    "for page_url in tqdm_notebook(page_urls):\n",
    "    try:\n",
    "        driver.get(page_url)\n",
    "        WebDriverWait(driver, 5).until(EC.presence_of_element_located((By.XPATH, '//*[@id=\"mArticle\"]/div[1]/div[1]/div[2]/div/h2'))) # 가게 이름이 보일 때까지\n",
    "        \n",
    "\n",
    "        html = driver.page_source\n",
    "        soup = BeautifulSoup(html, 'html.parser')\n",
    "\n",
    "        names = soup.find(name='h2', attrs={\"class\":\"tit_location\"}) # 가게 이름 찾기\n",
    "        \n",
    "        contents_div = soup.find(name=\"div\", attrs={\"class\":\"evaluation_review\"}) # 후기 작성란 찾기\n",
    "        rates = contents_div.find_all(name=\"em\", attrs={\"class\":\"num_rate\"}) # 별점 찾기\n",
    "        reviews = contents_div.find_all(name=\"p\", attrs={\"class\":\"txt_comment\"}) # 리뷰 찾기\n",
    "    \n",
    "        # 첫번째 페이지 별점 및 리뷰 가져오기\n",
    "        for rate, review in zip(rates, reviews):\n",
    "            if review != ' ':\n",
    "                row = [names.text, rate.text[0], review.find(name=\"span\").text] # 가게이름, 별점, 리뷰 순으로 가져와 리스트 만들기\n",
    "                series = pd.Series(row, index=review_df.columns)\n",
    "                review_df = review_df.append(series, ignore_index=True)\n",
    "        \n",
    "        # 두번째 페이지부터 다섯번째 페이지까지 별점 및 리뷰 가져오기\n",
    "        for button_num in range(2, 6): \n",
    "            another_reviews = driver.find_element_by_xpath(\"//a[@data-page='\" + str(button_num) + \"']\") # 페이지 넘기기\n",
    "            another_reviews.click()\n",
    "            driver.implicitly_wait(5)\n",
    "            \n",
    "        \n",
    "            html = driver.page_source\n",
    "            soup = BeautifulSoup(html, 'html.parser')\n",
    "\n",
    "            contents_div = soup.find(name=\"div\", attrs={\"class\":\"evaluation_review\"})\n",
    "            rates = contents_div.find_all(name=\"em\", attrs={\"class\":\"num_rate\"})\n",
    "            reviews = contents_div.find_all(name=\"p\", attrs={\"class\":\"txt_comment\"})\n",
    "\n",
    "            for rate, review in zip(rates, reviews):\n",
    "                if review != ' ':\n",
    "                    row = [names.text, rate.text[0], review.find(name=\"span\").text]\n",
    "                    series = pd.Series(row, index=review_df.columns)\n",
    "                    review_df = review_df.append(series, ignore_index=True)\n",
    "    except:\n",
    "        pass # 리뷰가 없거나 리뷰를 공개하지 않은 곳들도 있어서 패스 설정\n",
    "    \n",
    "driver.close()"
   ]
  },
  {
   "cell_type": "code",
   "execution_count": 11,
   "metadata": {},
   "outputs": [
    {
     "data": {
      "text/html": [
       "<div>\n",
       "<style scoped>\n",
       "    .dataframe tbody tr th:only-of-type {\n",
       "        vertical-align: middle;\n",
       "    }\n",
       "\n",
       "    .dataframe tbody tr th {\n",
       "        vertical-align: top;\n",
       "    }\n",
       "\n",
       "    .dataframe thead th {\n",
       "        text-align: right;\n",
       "    }\n",
       "</style>\n",
       "<table border=\"1\" class=\"dataframe\">\n",
       "  <thead>\n",
       "    <tr style=\"text-align: right;\">\n",
       "      <th></th>\n",
       "      <th>name</th>\n",
       "      <th>score</th>\n",
       "      <th>review</th>\n",
       "    </tr>\n",
       "  </thead>\n",
       "  <tbody>\n",
       "  </tbody>\n",
       "</table>\n",
       "</div>"
      ],
      "text/plain": [
       "Empty DataFrame\n",
       "Columns: [name, score, review]\n",
       "Index: []"
      ]
     },
     "execution_count": 11,
     "metadata": {},
     "output_type": "execute_result"
    }
   ],
   "source": [
    "review_df"
   ]
  },
  {
   "cell_type": "code",
   "execution_count": 6,
   "metadata": {},
   "outputs": [
    {
     "data": {
      "text/html": [
       "<div>\n",
       "<style scoped>\n",
       "    .dataframe tbody tr th:only-of-type {\n",
       "        vertical-align: middle;\n",
       "    }\n",
       "\n",
       "    .dataframe tbody tr th {\n",
       "        vertical-align: top;\n",
       "    }\n",
       "\n",
       "    .dataframe thead th {\n",
       "        text-align: right;\n",
       "    }\n",
       "</style>\n",
       "<table border=\"1\" class=\"dataframe\">\n",
       "  <thead>\n",
       "    <tr style=\"text-align: right;\">\n",
       "      <th></th>\n",
       "      <th>name</th>\n",
       "      <th>score</th>\n",
       "      <th>review</th>\n",
       "    </tr>\n",
       "  </thead>\n",
       "  <tbody>\n",
       "  </tbody>\n",
       "</table>\n",
       "</div>"
      ],
      "text/plain": [
       "Empty DataFrame\n",
       "Columns: [name, score, review]\n",
       "Index: []"
      ]
     },
     "execution_count": 6,
     "metadata": {},
     "output_type": "execute_result"
    }
   ],
   "source": [
    "# 리뷰 없이 별점만 남긴 리뷰 제거\n",
    "filter = review_df[\"review\"] != \"\" \n",
    "review_data = review_df[filter]\n",
    "review_data"
   ]
  },
  {
   "cell_type": "code",
   "execution_count": 8,
   "metadata": {},
   "outputs": [],
   "source": [
    "review_data.to_csv(\"./review_data.csv\", index=False, encoding='utf-8-sig')"
   ]
  }
 ],
 "metadata": {
  "kernelspec": {
   "display_name": "Python 3.9.12 ('base')",
   "language": "python",
   "name": "python3"
  },
  "language_info": {
   "codemirror_mode": {
    "name": "ipython",
    "version": 3
   },
   "file_extension": ".py",
   "mimetype": "text/x-python",
   "name": "python",
   "nbconvert_exporter": "python",
   "pygments_lexer": "ipython3",
   "version": "3.9.12"
  },
  "vscode": {
   "interpreter": {
    "hash": "ad2bdc8ecc057115af97d19610ffacc2b4e99fae6737bb82f5d7fb13d2f2c186"
   }
  }
 },
 "nbformat": 4,
 "nbformat_minor": 2
}
